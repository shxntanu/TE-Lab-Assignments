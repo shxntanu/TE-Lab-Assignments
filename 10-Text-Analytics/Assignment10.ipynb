{
 "cells": [
  {
   "cell_type": "markdown",
   "id": "8a70924f-71df-4790-91a7-d63a56f630d6",
   "metadata": {},
   "source": [
    "# Assignment 10\n",
    "\n",
    "## Text Analytics\n",
    "1. Extract Sample document and apply following document preprocessing methods:\n",
    "Tokenization, POS Tagging, stop words removal, Stemming and Lemmatization.\n",
    "2. Create representation of document by calculating Term Frequency and Inverse Document\n",
    "Frequency"
   ]
  },
  {
   "cell_type": "markdown",
   "id": "11309b19-4a9f-486a-af7c-c0dd007aafe8",
   "metadata": {},
   "source": [
    "## Text Preprocessing"
   ]
  },
  {
   "cell_type": "code",
   "execution_count": 1,
   "id": "5a622b79-d5ec-4bde-ba41-d8c55bee04ea",
   "metadata": {},
   "outputs": [],
   "source": [
    "import math, re, nltk"
   ]
  },
  {
   "cell_type": "code",
   "execution_count": 5,
   "id": "23655fb4-4fc7-4dfd-8f18-bf23dcdb606d",
   "metadata": {},
   "outputs": [],
   "source": [
    "with open('doc_01', 'r') as file:\n",
    "    doc = file.read()\n",
    "\n",
    "with open('doc_02', 'r') as file:\n",
    "    doc2 = file.read()"
   ]
  },
  {
   "cell_type": "markdown",
   "id": "4624779d-73da-4ee8-9550-48535d8fbc21",
   "metadata": {},
   "source": [
    "#### Tokenization\n",
    "\n",
    "Tokenization is the process of breaking down a text into individual words or tokens. This is often the first step in natural language processing tasks"
   ]
  },
  {
   "cell_type": "code",
   "execution_count": 6,
   "id": "37e5e0cc-fe4a-4570-aa3b-e4c42bca2c2e",
   "metadata": {},
   "outputs": [
    {
     "name": "stdout",
     "output_type": "stream",
     "text": [
      "['Between', '2016', 'and', '2019', ',', 'the', 'state', 'forest', 'department', 'under', 'the', 'BJP', 'government', 'had', 'launched', '‘', 'Green', 'Maharashtra', '’', 'drive', 'with', 'an', 'aim', 'to', 'plant', '50', 'crore', 'trees', 'across', 'the', 'state', 'in', 'the', 'four-year', 'period', '.', 'In', 'October', '2019', ',', 'the', 'government', 'had', 'claimed', 'it', 'had', 'surpassed', 'the', 'target', 'by', 'planting', '33', 'crore', 'trees', 'in', 'July-September', '2019', '.', 'The', 'Indian', 'Express', 'had', 'found', 'that', 'non-forest', 'agencies', '—', 'such', 'as', 'gram', 'panchayats', '—', 'which', 'were', 'tasked', 'with', 'planting', 'trees', 'had', 'not', 'uploaded', 'the', 'mandatory', 'audio-visual', 'proof', 'of', 'the', 'tree', 'plantation', 'drives', 'on', 'the', 'specially', 'created', 'portal', '.', 'In', 'Pune', 'Revenue', 'Division', ',', 'it', 'was', 'claimed', 'the', 'gram', 'panchayats', 'planted', '1.7', 'crore', 'saplings', ';', 'however', ',', 'no', 'evidence', 'was', 'uploaded', 'for', '87', 'per', 'cent', '(', '1.49', 'crore', ')', 'saplings', '.', 'Also', ',', 'out', 'of', 'the', '59', 'government', 'agencies', 'involved', 'in', 'the', 'drive', 'as', 'many', 'as', '38', 'had', 'not', 'submitted', 'survival', 'reports', 'about', 'the', 'saplings', '.', 'This', 'year', ',', 'the', 'targets', 'set', 'by', 'the', 'forest', 'department', 'were', 'comparatively', 'modest', '.', 'For', 'example', ',', 'Pune', 'Circle', '—', 'which', 'comprises', 'three', 'divisions', 'in', 'Pune', 'and', 'Solapur', 'district', '—', 'had', 'planned', 'to', 'plant', '17', 'lakh', 'saplings', 'on', 'forest', 'land', '.', 'However', ',', 'it', 'may', 'not', 'meet', 'the', 'target', 'due', 'to', 'unavailability', 'of', 'funds', '.', 'Last', 'year', 'Pune', 'Circle', 'planted', '70', 'lakh', 'saplings', 'on', 'forest', 'land', '.', 'In', 'Pune', 'Division', '—', 'which', 'comprises', 'six', 'talukas', 'namely', 'Maval', ',', 'Mulshi', ',', 'Daund', ',', 'Indapur', ',', 'Baramati', 'and', 'Havveli', '—', 'preparations', 'were', 'done', 'for', 'plantation', 'of', 'about', '4', 'lakh', 'trees', 'with', 'special', 'emphasis', 'on', 'teakwood', '.', 'The', 'National', 'Forest', 'Policy', 'aims', 'and', 'emphasizes', 'at', 'maintaining', '33', '%', 'of', 'the', 'country', '’', 's', 'geographical', 'area', 'under', 'forest', 'and', 'green', 'cover', '.', 'In', 'view', 'of', 'this', 'and', 'as', 'a', 'part', 'of', 'the', '50', 'crore', 'plantation', 'programme', 'within', 'Maharashtra', ',', 'the', 'Maharashtra', 'Forest', 'Department', 'aims', 'to', 'plant', '4', 'crore', 'saplings', 'all', 'over', 'the', 'State', 'between', '1st', 'to', 'July', '7th', ',', '2017', 'to', 'celebrate', '‘', 'Vanmohotsav', '’', '.', 'The', 'plantation', 'programme', ',', 'which', 'was', 'announced', 'in', '2016', 'with', 'the', 'aim', 'of', 'planting', '2', 'crore', 'trees', 'on', '1st', 'July', '2016', 'was', 'a', 'resounding', 'success', 'with', 'the', 'final', 'total', 'reported', 'figure', 'of', '2.82', 'crore', 'saplings', 'planted', 'on', 'a', 'single', 'day', '.', 'To', 'maintain', 'consistency', 'of', 'this', 'platform', 'without', 'affecting', 'its', 'momentum', ',', 'the', 'Forest', 'Department', 'has', 'set', 'the', 'target', 'of', 'plantation', 'of', '4', 'crore', ',', '13', 'crore', 'and', '33', 'crore', 'saplings', 'under', 'the', 'mission', 'of', '50', 'crore', 'plantation', 'which', 'shall', 'be', 'accomplished', 'in', 'the', 'three', 'consecutive', 'years', 'viz', '.', '2017', ',', '2018', 'and', '2019', '.', 'The', '4', 'crore', 'saplings', 'for', 'the', 'year', '2017', 'will', 'be', 'planted', 'during', 'the', 'Vanmohotsav', ',', 'July', '1st', 'to', 'July', '7th', 'in', 'a', 'state-wide', 'drive', 'with', 'the', 'involvement', 'of', '33', 'government', 'departments', 'along', 'with', 'Students', 'of', 'Schools', 'and', 'Colleges', ',', 'NSS', ',', 'NCC', ',', 'CSR', ',', 'NGOs', ',', 'Railways', ',', 'National', 'Highways', ',', 'Defence', ',', 'NABARD', 'and', 'other', 'stakeholders', 'of', 'Society', '.', 'In', 'a', 'first', 'of', 'its', 'kind', ',', 'a', '24-hour', 'toll', 'free', 'helpline', 'number', '1926', 'called', '‘', 'Hello', 'Forest', '’', 'has', 'been', 'set', 'up', 'to', 'provide', 'information', 'regarding', 'plantation', ',', 'protection', 'and', 'for', 'mass', 'awareness', '.', 'The', 'Forest', 'Department', 'has', 'created', 'a', 'mobile', 'application', 'called', '‘', 'My', 'Plants', '’', 'to', 'record', 'details', 'of', 'the', 'plantation', 'such', 'as', 'numbers', ',', 'species', 'and', 'location', 'into', 'the', 'computer', 'system', 'of', 'the', 'Forest', 'Department', '.', 'All', 'volunteers', 'at', 'individual', ',', 'collective', 'and', 'organizational', 'level', 'should', 'download', 'and', 'use', 'this', 'application', 'to', 'record', 'their', 'tree', 'plantation', 'work', 'through', 'the', 'application', ',', 'which', 'will', 'be', 'operational', 'from', '1st', 'July', 'to', '7th', 'July', '.', 'In', 'consonance', 'of', 'the', 'public', 'participation', ',', 'the', 'Maharashtra', 'Forest', 'Department', 'has', 'initiated', 'the', '‘', 'Maharashtra', 'Harit', 'Sena', '’', '/', '‘', 'Green', 'Army', '’', 'which', 'is', 'a', 'body', 'of', 'dedicated', 'volunteers', 'to', 'participate', 'in', 'the', 'plantation', ',', 'protection', ',', 'and', 'activities', 'in', 'forest', ',', 'wildlife', ',', 'and', 'related', 'sectors', 'around', 'the', 'year', '.', 'Individuals', 'and', 'organisations', 'interested', 'in', 'volunteering', 'can', 'register', 'on', 'the', 'Green', 'Army', 'website', 'www.greenarmy.mahaforest.gov.in', 'An', 'integrated', 'drive', 'has', 'been', 'set', 'in', 'place', 'to', 'ensure', 'seamless', 'and', 'successful', 'participation', 'from', 'all', 'stakeholders', 'of', 'society', ',', 'especially', 'the', 'public', '.']\n"
     ]
    }
   ],
   "source": [
    "word_tokens = nltk.word_tokenize(doc)\n",
    "print(word_tokens)"
   ]
  },
  {
   "cell_type": "markdown",
   "id": "20cfc0bb-9715-4dba-ae71-2be4dac649b5",
   "metadata": {},
   "source": [
    "#### Stop Words\n",
    "\n",
    "Stop words are common words like 'the', 'is', 'and', etc., which often do not carry significant meaning in text analysis.\n",
    "Remove these stop words from the text to focus on the more meaningful content."
   ]
  },
  {
   "cell_type": "code",
   "execution_count": 7,
   "id": "833d5b77-9615-4cd3-b107-72082c8e1265",
   "metadata": {},
   "outputs": [
    {
     "name": "stdout",
     "output_type": "stream",
     "text": [
      "['Between', '2016', '2019', ',', 'state', 'forest', 'department', 'BJP', 'government', 'launched', '‘', 'Green', 'Maharashtra', '’', 'drive', 'aim', 'plant', '50', 'crore', 'trees', 'across', 'state', 'four-year', 'period', '.', 'In', 'October', '2019', ',', 'government', 'claimed', 'surpassed', 'target', 'planting', '33', 'crore', 'trees', 'July-September', '2019', '.', 'The', 'Indian', 'Express', 'found', 'non-forest', 'agencies', '—', 'gram', 'panchayats', '—', 'tasked', 'planting', 'trees', 'uploaded', 'mandatory', 'audio-visual', 'proof', 'tree', 'plantation', 'drives', 'specially', 'created', 'portal', '.', 'In', 'Pune', 'Revenue', 'Division', ',', 'claimed', 'gram', 'panchayats', 'planted', '1.7', 'crore', 'saplings', ';', 'however', ',', 'evidence', 'uploaded', '87', 'per', 'cent', '(', '1.49', 'crore', ')', 'saplings', '.', 'Also', ',', '59', 'government', 'agencies', 'involved', 'drive', 'many', '38', 'submitted', 'survival', 'reports', 'saplings', '.', 'This', 'year', ',', 'targets', 'set', 'forest', 'department', 'comparatively', 'modest', '.', 'For', 'example', ',', 'Pune', 'Circle', '—', 'comprises', 'three', 'divisions', 'Pune', 'Solapur', 'district', '—', 'planned', 'plant', '17', 'lakh', 'saplings', 'forest', 'land', '.', 'However', ',', 'may', 'meet', 'target', 'due', 'unavailability', 'funds', '.', 'Last', 'year', 'Pune', 'Circle', 'planted', '70', 'lakh', 'saplings', 'forest', 'land', '.', 'In', 'Pune', 'Division', '—', 'comprises', 'six', 'talukas', 'namely', 'Maval', ',', 'Mulshi', ',', 'Daund', ',', 'Indapur', ',', 'Baramati', 'Havveli', '—', 'preparations', 'done', 'plantation', '4', 'lakh', 'trees', 'special', 'emphasis', 'teakwood', '.', 'The', 'National', 'Forest', 'Policy', 'aims', 'emphasizes', 'maintaining', '33', '%', 'country', '’', 'geographical', 'area', 'forest', 'green', 'cover', '.', 'In', 'view', 'part', '50', 'crore', 'plantation', 'programme', 'within', 'Maharashtra', ',', 'Maharashtra', 'Forest', 'Department', 'aims', 'plant', '4', 'crore', 'saplings', 'State', '1st', 'July', '7th', ',', '2017', 'celebrate', '‘', 'Vanmohotsav', '’', '.', 'The', 'plantation', 'programme', ',', 'announced', '2016', 'aim', 'planting', '2', 'crore', 'trees', '1st', 'July', '2016', 'resounding', 'success', 'final', 'total', 'reported', 'figure', '2.82', 'crore', 'saplings', 'planted', 'single', 'day', '.', 'To', 'maintain', 'consistency', 'platform', 'without', 'affecting', 'momentum', ',', 'Forest', 'Department', 'set', 'target', 'plantation', '4', 'crore', ',', '13', 'crore', '33', 'crore', 'saplings', 'mission', '50', 'crore', 'plantation', 'shall', 'accomplished', 'three', 'consecutive', 'years', 'viz', '.', '2017', ',', '2018', '2019', '.', 'The', '4', 'crore', 'saplings', 'year', '2017', 'planted', 'Vanmohotsav', ',', 'July', '1st', 'July', '7th', 'state-wide', 'drive', 'involvement', '33', 'government', 'departments', 'along', 'Students', 'Schools', 'Colleges', ',', 'NSS', ',', 'NCC', ',', 'CSR', ',', 'NGOs', ',', 'Railways', ',', 'National', 'Highways', ',', 'Defence', ',', 'NABARD', 'stakeholders', 'Society', '.', 'In', 'first', 'kind', ',', '24-hour', 'toll', 'free', 'helpline', 'number', '1926', 'called', '‘', 'Hello', 'Forest', '’', 'set', 'provide', 'information', 'regarding', 'plantation', ',', 'protection', 'mass', 'awareness', '.', 'The', 'Forest', 'Department', 'created', 'mobile', 'application', 'called', '‘', 'My', 'Plants', '’', 'record', 'details', 'plantation', 'numbers', ',', 'species', 'location', 'computer', 'system', 'Forest', 'Department', '.', 'All', 'volunteers', 'individual', ',', 'collective', 'organizational', 'level', 'download', 'use', 'application', 'record', 'tree', 'plantation', 'work', 'application', ',', 'operational', '1st', 'July', '7th', 'July', '.', 'In', 'consonance', 'public', 'participation', ',', 'Maharashtra', 'Forest', 'Department', 'initiated', '‘', 'Maharashtra', 'Harit', 'Sena', '’', '/', '‘', 'Green', 'Army', '’', 'body', 'dedicated', 'volunteers', 'participate', 'plantation', ',', 'protection', ',', 'activities', 'forest', ',', 'wildlife', ',', 'related', 'sectors', 'around', 'year', '.', 'Individuals', 'organisations', 'interested', 'volunteering', 'register', 'Green', 'Army', 'website', 'www.greenarmy.mahaforest.gov.in', 'An', 'integrated', 'drive', 'set', 'place', 'ensure', 'seamless', 'successful', 'participation', 'stakeholders', 'society', ',', 'especially', 'public', '.']\n"
     ]
    }
   ],
   "source": [
    "stop_words = set(nltk.corpus.stopwords.words('english'))\n",
    "word_tokens = [token for token in word_tokens if token not in stop_words]\n",
    "print(word_tokens)"
   ]
  },
  {
   "cell_type": "markdown",
   "id": "9605b03b-926f-4ae4-b00f-03a9fe7154dd",
   "metadata": {},
   "source": [
    "#### POS Tagging\n",
    "\n",
    "POS tagging involves labeling each word in a sentence with its corresponding part of speech, such as noun, verb, adjective, etc."
   ]
  },
  {
   "cell_type": "code",
   "execution_count": 8,
   "id": "09903861-490a-47c4-b4b7-95eea4f1ddba",
   "metadata": {},
   "outputs": [
    {
     "name": "stdout",
     "output_type": "stream",
     "text": [
      "[('Between', 'IN'), ('2016', 'CD'), ('2019', 'CD'), (',', ','), ('state', 'NN'), ('forest', 'JJS'), ('department', 'NN'), ('BJP', 'NNP'), ('government', 'NN'), ('launched', 'VBD'), ('‘', 'NNP'), ('Green', 'NNP'), ('Maharashtra', 'NNP'), ('’', 'NNP'), ('drive', 'NN'), ('aim', 'NN'), ('plant', 'NN'), ('50', 'CD'), ('crore', 'NN'), ('trees', 'NNS'), ('across', 'IN'), ('state', 'NN'), ('four-year', 'JJ'), ('period', 'NN'), ('.', '.'), ('In', 'IN'), ('October', 'NNP'), ('2019', 'CD'), (',', ','), ('government', 'NN'), ('claimed', 'VBD'), ('surpassed', 'JJ'), ('target', 'NN'), ('planting', 'VBG'), ('33', 'CD'), ('crore', 'NN'), ('trees', 'NNS'), ('July-September', 'NNP'), ('2019', 'CD'), ('.', '.'), ('The', 'DT'), ('Indian', 'JJ'), ('Express', 'NNP'), ('found', 'VBD'), ('non-forest', 'JJS'), ('agencies', 'NNS'), ('—', 'VBP'), ('gram', 'JJ'), ('panchayats', 'NNS'), ('—', 'VBP'), ('tasked', 'VBN'), ('planting', 'NN'), ('trees', 'NNS'), ('uploaded', 'JJ'), ('mandatory', 'JJ'), ('audio-visual', 'JJ'), ('proof', 'NN'), ('tree', 'JJ'), ('plantation', 'NN'), ('drives', 'NNS'), ('specially', 'RB'), ('created', 'VBD'), ('portal', 'JJ'), ('.', '.'), ('In', 'IN'), ('Pune', 'NNP'), ('Revenue', 'NNP'), ('Division', 'NNP'), (',', ','), ('claimed', 'VBD'), ('gram', 'JJ'), ('panchayats', 'NNS'), ('planted', 'VBD'), ('1.7', 'CD'), ('crore', 'NN'), ('saplings', 'NNS'), (';', ':'), ('however', 'RB'), (',', ','), ('evidence', 'NN'), ('uploaded', 'VBD'), ('87', 'CD'), ('per', 'IN'), ('cent', 'NN'), ('(', '('), ('1.49', 'CD'), ('crore', 'NN'), (')', ')'), ('saplings', 'NNS'), ('.', '.'), ('Also', 'RB'), (',', ','), ('59', 'CD'), ('government', 'NN'), ('agencies', 'NNS'), ('involved', 'VBD'), ('drive', 'JJ'), ('many', 'JJ'), ('38', 'CD'), ('submitted', 'VBD'), ('survival', 'NN'), ('reports', 'NNS'), ('saplings', 'NNS'), ('.', '.'), ('This', 'DT'), ('year', 'NN'), (',', ','), ('targets', 'NNS'), ('set', 'VBP'), ('forest', 'JJS'), ('department', 'NN'), ('comparatively', 'RB'), ('modest', 'JJ'), ('.', '.'), ('For', 'IN'), ('example', 'NN'), (',', ','), ('Pune', 'NNP'), ('Circle', 'NNP'), ('—', 'NNP'), ('comprises', 'VBZ'), ('three', 'CD'), ('divisions', 'NNS'), ('Pune', 'NNP'), ('Solapur', 'NNP'), ('district', 'NN'), ('—', 'NN'), ('planned', 'VBD'), ('plant', 'NN'), ('17', 'CD'), ('lakh', 'JJ'), ('saplings', 'NNS'), ('forest', 'JJS'), ('land', 'NN'), ('.', '.'), ('However', 'RB'), (',', ','), ('may', 'MD'), ('meet', 'VB'), ('target', 'NN'), ('due', 'JJ'), ('unavailability', 'NN'), ('funds', 'NNS'), ('.', '.'), ('Last', 'JJ'), ('year', 'NN'), ('Pune', 'NNP'), ('Circle', 'NNP'), ('planted', 'VBD'), ('70', 'CD'), ('lakh', 'JJ'), ('saplings', 'NNS'), ('forest', 'JJS'), ('land', 'NN'), ('.', '.'), ('In', 'IN'), ('Pune', 'NNP'), ('Division', 'NNP'), ('—', 'NNP'), ('comprises', 'VBZ'), ('six', 'CD'), ('talukas', 'NN'), ('namely', 'RB'), ('Maval', 'NNP'), (',', ','), ('Mulshi', 'NNP'), (',', ','), ('Daund', 'NNP'), (',', ','), ('Indapur', 'NNP'), (',', ','), ('Baramati', 'NNP'), ('Havveli', 'NNP'), ('—', 'NNP'), ('preparations', 'NNS'), ('done', 'VBN'), ('plantation', 'NN'), ('4', 'CD'), ('lakh', 'NN'), ('trees', 'NNS'), ('special', 'JJ'), ('emphasis', 'NN'), ('teakwood', 'NN'), ('.', '.'), ('The', 'DT'), ('National', 'NNP'), ('Forest', 'NNP'), ('Policy', 'NNP'), ('aims', 'VBZ'), ('emphasizes', 'VBZ'), ('maintaining', 'VBG'), ('33', 'CD'), ('%', 'NN'), ('country', 'NN'), ('’', 'NNP'), ('geographical', 'JJ'), ('area', 'NN'), ('forest', 'JJS'), ('green', 'JJ'), ('cover', 'NN'), ('.', '.'), ('In', 'IN'), ('view', 'NN'), ('part', 'NN'), ('50', 'CD'), ('crore', 'NN'), ('plantation', 'NN'), ('programme', 'NN'), ('within', 'IN'), ('Maharashtra', 'NNP'), (',', ','), ('Maharashtra', 'NNP'), ('Forest', 'NNP'), ('Department', 'NNP'), ('aims', 'VBZ'), ('plant', 'NN'), ('4', 'CD'), ('crore', 'NN'), ('saplings', 'NNS'), ('State', 'NNP'), ('1st', 'CD'), ('July', 'NNP'), ('7th', 'CD'), (',', ','), ('2017', 'CD'), ('celebrate', 'NN'), ('‘', 'NNP'), ('Vanmohotsav', 'NNP'), ('’', 'NNP'), ('.', '.'), ('The', 'DT'), ('plantation', 'NN'), ('programme', 'NN'), (',', ','), ('announced', 'VBD'), ('2016', 'CD'), ('aim', 'NN'), ('planting', 'VBG'), ('2', 'CD'), ('crore', 'NN'), ('trees', 'NNS'), ('1st', 'CD'), ('July', 'NNP'), ('2016', 'CD'), ('resounding', 'VBG'), ('success', 'NN'), ('final', 'JJ'), ('total', 'NN'), ('reported', 'VBD'), ('figure', 'NN'), ('2.82', 'CD'), ('crore', 'NN'), ('saplings', 'NNS'), ('planted', 'VBD'), ('single', 'JJ'), ('day', 'NN'), ('.', '.'), ('To', 'TO'), ('maintain', 'VB'), ('consistency', 'NN'), ('platform', 'NN'), ('without', 'IN'), ('affecting', 'VBG'), ('momentum', 'NN'), (',', ','), ('Forest', 'NNP'), ('Department', 'NNP'), ('set', 'VBD'), ('target', 'NN'), ('plantation', 'NN'), ('4', 'CD'), ('crore', 'NN'), (',', ','), ('13', 'CD'), ('crore', 'NN'), ('33', 'CD'), ('crore', 'NN'), ('saplings', 'NNS'), ('mission', 'NN'), ('50', 'CD'), ('crore', 'NN'), ('plantation', 'NN'), ('shall', 'MD'), ('accomplished', 'VB'), ('three', 'CD'), ('consecutive', 'JJ'), ('years', 'NNS'), ('viz', 'RB'), ('.', '.'), ('2017', 'CD'), (',', ','), ('2018', 'CD'), ('2019', 'CD'), ('.', '.'), ('The', 'DT'), ('4', 'CD'), ('crore', 'NN'), ('saplings', 'NNS'), ('year', 'NN'), ('2017', 'CD'), ('planted', 'VBD'), ('Vanmohotsav', 'NNP'), (',', ','), ('July', 'NNP'), ('1st', 'CD'), ('July', 'NNP'), ('7th', 'CD'), ('state-wide', 'JJ'), ('drive', 'NN'), ('involvement', 'NN'), ('33', 'CD'), ('government', 'NN'), ('departments', 'NNS'), ('along', 'IN'), ('Students', 'NNS'), ('Schools', 'NNP'), ('Colleges', 'NNP'), (',', ','), ('NSS', 'NNP'), (',', ','), ('NCC', 'NNP'), (',', ','), ('CSR', 'NNP'), (',', ','), ('NGOs', 'NNP'), (',', ','), ('Railways', 'NNP'), (',', ','), ('National', 'NNP'), ('Highways', 'NNP'), (',', ','), ('Defence', 'NNP'), (',', ','), ('NABARD', 'NNP'), ('stakeholders', 'VBZ'), ('Society', 'NNP'), ('.', '.'), ('In', 'IN'), ('first', 'JJ'), ('kind', 'NN'), (',', ','), ('24-hour', 'JJ'), ('toll', 'NN'), ('free', 'JJ'), ('helpline', 'NN'), ('number', 'NN'), ('1926', 'CD'), ('called', 'VBD'), ('‘', 'NNP'), ('Hello', 'NNP'), ('Forest', 'NNP'), ('’', 'NNP'), ('set', 'VBD'), ('provide', 'JJ'), ('information', 'NN'), ('regarding', 'VBG'), ('plantation', 'NN'), (',', ','), ('protection', 'NN'), ('mass', 'NN'), ('awareness', 'NN'), ('.', '.'), ('The', 'DT'), ('Forest', 'NNP'), ('Department', 'NNP'), ('created', 'VBD'), ('mobile', 'JJ'), ('application', 'NN'), ('called', 'VBN'), ('‘', 'NNP'), ('My', 'PRP$'), ('Plants', 'NNS'), ('’', 'VBP'), ('record', 'NN'), ('details', 'NNS'), ('plantation', 'NN'), ('numbers', 'NNS'), (',', ','), ('species', 'NNS'), ('location', 'VBP'), ('computer', 'NN'), ('system', 'NN'), ('Forest', 'NNP'), ('Department', 'NNP'), ('.', '.'), ('All', 'NNP'), ('volunteers', 'NNS'), ('individual', 'JJ'), (',', ','), ('collective', 'JJ'), ('organizational', 'JJ'), ('level', 'NN'), ('download', 'NN'), ('use', 'NN'), ('application', 'NN'), ('record', 'NN'), ('tree', 'NN'), ('plantation', 'NN'), ('work', 'NN'), ('application', 'NN'), (',', ','), ('operational', 'JJ'), ('1st', 'CD'), ('July', 'NNP'), ('7th', 'CD'), ('July', 'NNP'), ('.', '.'), ('In', 'IN'), ('consonance', 'NN'), ('public', 'JJ'), ('participation', 'NN'), (',', ','), ('Maharashtra', 'NNP'), ('Forest', 'NNP'), ('Department', 'NNP'), ('initiated', 'VBD'), ('‘', 'NNP'), ('Maharashtra', 'NNP'), ('Harit', 'NNP'), ('Sena', 'NNP'), ('’', 'NNP'), ('/', 'NNP'), ('‘', 'NNP'), ('Green', 'NNP'), ('Army', 'NNP'), ('’', 'NNP'), ('body', 'NN'), ('dedicated', 'VBD'), ('volunteers', 'NNS'), ('participate', 'JJ'), ('plantation', 'NN'), (',', ','), ('protection', 'NN'), (',', ','), ('activities', 'NNS'), ('forest', 'VBP'), (',', ','), ('wildlife', 'NN'), (',', ','), ('related', 'JJ'), ('sectors', 'NNS'), ('around', 'IN'), ('year', 'NN'), ('.', '.'), ('Individuals', 'NNS'), ('organisations', 'NNS'), ('interested', 'JJ'), ('volunteering', 'VBG'), ('register', 'NN'), ('Green', 'NNP'), ('Army', 'NNP'), ('website', 'NN'), ('www.greenarmy.mahaforest.gov.in', 'VBD'), ('An', 'DT'), ('integrated', 'JJ'), ('drive', 'NN'), ('set', 'VBN'), ('place', 'NN'), ('ensure', 'VB'), ('seamless', 'JJ'), ('successful', 'JJ'), ('participation', 'NN'), ('stakeholders', 'NNS'), ('society', 'NN'), (',', ','), ('especially', 'RB'), ('public', 'JJ'), ('.', '.')]\n"
     ]
    }
   ],
   "source": [
    "tagged = nltk.pos_tag(word_tokens)\n",
    "print(tagged)"
   ]
  },
  {
   "cell_type": "markdown",
   "id": "116cbc2d-8b2d-4d4f-ad77-3fd3c91c7962",
   "metadata": {},
   "source": [
    "#### Stemming & Lemmatization\n",
    "\n",
    "**Stemming**\n",
    "\n",
    "Stemming, in Natural Language Processing (NLP), refers to the process of reducing a word to its word stem that affixes to suffixes and prefixes or the roots.\n",
    "\n",
    "While a stemming algorithm is a linguistic normalization process in which the variant forms of a word are reduced to a standard form. It is a technique used to extract the base form of the words by removing affixes from them. It is just like cutting down the branches of a tree to its stems. For example, the stem of the words “eating,” “eats,” “eaten” is “eat.”\n",
    "\n",
    "![](https://editor.analyticsvidhya.com/uploads/98676NLP_P2_I1.JPG)\n",
    "\n",
    "Search engines use stemming in NLP for indexing the words. That’s why rather than storing all forms of a word, a search engine can store only the stems. In this way, stemming reduces the size of the index and increases retrieval accuracy.\n",
    "\n",
    "![](https://assets-global.website-files.com/5ef788f07804fb7d78a4127a/61d44079aad03bd419c4ba90_stemming.jpeg)\n",
    "\n",
    "Porter's Stemmer Algorithm:\n",
    "\n",
    "Porter’s Stemmer algorithm is one of the most popular stemming methods proposed in 1980. It is based on the idea that the suffixes in the English language are made up of a combination of smaller and simpler suffixes. This stemmer is known for its speed and simplicity. The main applications of Porter Stemmer include data mining and Information retrieval. However, its applications are only limited to English words. Also, the group of stems is mapped onto the same stem and the output stem is not necessarily a meaningful word. The algorithms are fairly lengthy and are known to be the oldest stemmer.\n",
    "\n",
    "Example: EED -> EE means “if the word has at least one vowel and consonant plus EED ending, change the ending to EE” as ‘agreed’ becomes ‘agree.’ \n",
    "\n",
    "\n",
    "**Lemmatization**\n",
    "\n",
    "Lemmatization is the process of grouping together the different inflected forms of a word so they can be analyzed as a single item. Lemmatization is similar to stemming but it brings context to the words. So, it links words with similar meanings to one word. \n",
    "The goal of lemmatization is to reduce a word to its root form, also called a lemma. For example, the verb \"running\" would be identified as \"run.\" \n",
    "\n",
    "e.g.\n",
    "*rocks : rock*\n",
    "\n",
    "*corpora : corpus*\n",
    "\n",
    "*better : good*\n",
    "\n",
    "Lemmatization takes a word and breaks it down to its lemma. For example, the verb \"walk\" might appear as \"walking,\" \"walks\" or \"walked.\" Inflectional endings such as \"s,\" \"ed\" and \"ing\" are removed. Lemmatization groups these words as its lemma, \"walk.\"\n",
    "\n",
    "| Stemming                                                                                                                       | Lemmatization                                                                                                 |\n",
    "|--------------------------------------------------------------------------------------------------------------------------------|---------------------------------------------------------------------------------------------------------------|\n",
    "| Stemming is a process that stems or removes last few characters from a word, often leading to incorrect meanings and spelling. | Lemmatization considers the context and converts the word to its meaningful base form, which is called Lemma. |\n",
    "| For instance, stemming the word ‘Caring‘ would return ‘Car‘.                                                                   | For instance, lemmatizing the word ‘Caring‘ would return ‘Care‘.                                              |\n",
    "| In stemming, for some words, it may not give may not give meaningful representation such as “Histori”.                         | Lemmatization gives a meaningful word/                                                                        |\n",
    "| Stemming is used in case of large dataset where performance is an issue.                                                       | Lemmatization is computationally expensive since it involves look-up tables and what not.                     |"
   ]
  },
  {
   "cell_type": "markdown",
   "id": "df5c0d47-b518-42cb-9ea0-a7198319e06d",
   "metadata": {},
   "source": [
    "### Lemmatization"
   ]
  },
  {
   "cell_type": "code",
   "execution_count": 9,
   "id": "facecd3b-7a0c-4f7a-a713-8616419c8b13",
   "metadata": {},
   "outputs": [
    {
     "name": "stdout",
     "output_type": "stream",
     "text": [
      "['Between', '2016', '2019', ',', 'state', 'forest', 'department', 'BJP', 'government', 'launched', '‘', 'Green', 'Maharashtra', '’', 'drive', 'aim', 'plant', '50', 'crore', 'tree', 'across', 'state', 'four-year', 'period', '.', 'In', 'October', '2019', ',', 'government', 'claimed', 'surpassed', 'target', 'planting', '33', 'crore', 'tree', 'July-September', '2019', '.', 'The', 'Indian', 'Express', 'found', 'non-forest', 'agency', '—', 'gram', 'panchayat', '—', 'tasked', 'planting', 'tree', 'uploaded', 'mandatory', 'audio-visual', 'proof', 'tree', 'plantation', 'drive', 'specially', 'created', 'portal', '.', 'In', 'Pune', 'Revenue', 'Division', ',', 'claimed', 'gram', 'panchayat', 'planted', '1.7', 'crore', 'sapling', ';', 'however', ',', 'evidence', 'uploaded', '87', 'per', 'cent', '(', '1.49', 'crore', ')', 'sapling', '.', 'Also', ',', '59', 'government', 'agency', 'involved', 'drive', 'many', '38', 'submitted', 'survival', 'report', 'sapling', '.', 'This', 'year', ',', 'target', 'set', 'forest', 'department', 'comparatively', 'modest', '.', 'For', 'example', ',', 'Pune', 'Circle', '—', 'comprises', 'three', 'division', 'Pune', 'Solapur', 'district', '—', 'planned', 'plant', '17', 'lakh', 'sapling', 'forest', 'land', '.', 'However', ',', 'may', 'meet', 'target', 'due', 'unavailability', 'fund', '.', 'Last', 'year', 'Pune', 'Circle', 'planted', '70', 'lakh', 'sapling', 'forest', 'land', '.', 'In', 'Pune', 'Division', '—', 'comprises', 'six', 'talukas', 'namely', 'Maval', ',', 'Mulshi', ',', 'Daund', ',', 'Indapur', ',', 'Baramati', 'Havveli', '—', 'preparation', 'done', 'plantation', '4', 'lakh', 'tree', 'special', 'emphasis', 'teakwood', '.', 'The', 'National', 'Forest', 'Policy', 'aim', 'emphasizes', 'maintaining', '33', '%', 'country', '’', 'geographical', 'area', 'forest', 'green', 'cover', '.', 'In', 'view', 'part', '50', 'crore', 'plantation', 'programme', 'within', 'Maharashtra', ',', 'Maharashtra', 'Forest', 'Department', 'aim', 'plant', '4', 'crore', 'sapling', 'State', '1st', 'July', '7th', ',', '2017', 'celebrate', '‘', 'Vanmohotsav', '’', '.', 'The', 'plantation', 'programme', ',', 'announced', '2016', 'aim', 'planting', '2', 'crore', 'tree', '1st', 'July', '2016', 'resounding', 'success', 'final', 'total', 'reported', 'figure', '2.82', 'crore', 'sapling', 'planted', 'single', 'day', '.', 'To', 'maintain', 'consistency', 'platform', 'without', 'affecting', 'momentum', ',', 'Forest', 'Department', 'set', 'target', 'plantation', '4', 'crore', ',', '13', 'crore', '33', 'crore', 'sapling', 'mission', '50', 'crore', 'plantation', 'shall', 'accomplished', 'three', 'consecutive', 'year', 'viz', '.', '2017', ',', '2018', '2019', '.', 'The', '4', 'crore', 'sapling', 'year', '2017', 'planted', 'Vanmohotsav', ',', 'July', '1st', 'July', '7th', 'state-wide', 'drive', 'involvement', '33', 'government', 'department', 'along', 'Students', 'Schools', 'Colleges', ',', 'NSS', ',', 'NCC', ',', 'CSR', ',', 'NGOs', ',', 'Railways', ',', 'National', 'Highways', ',', 'Defence', ',', 'NABARD', 'stakeholder', 'Society', '.', 'In', 'first', 'kind', ',', '24-hour', 'toll', 'free', 'helpline', 'number', '1926', 'called', '‘', 'Hello', 'Forest', '’', 'set', 'provide', 'information', 'regarding', 'plantation', ',', 'protection', 'mass', 'awareness', '.', 'The', 'Forest', 'Department', 'created', 'mobile', 'application', 'called', '‘', 'My', 'Plants', '’', 'record', 'detail', 'plantation', 'number', ',', 'specie', 'location', 'computer', 'system', 'Forest', 'Department', '.', 'All', 'volunteer', 'individual', ',', 'collective', 'organizational', 'level', 'download', 'use', 'application', 'record', 'tree', 'plantation', 'work', 'application', ',', 'operational', '1st', 'July', '7th', 'July', '.', 'In', 'consonance', 'public', 'participation', ',', 'Maharashtra', 'Forest', 'Department', 'initiated', '‘', 'Maharashtra', 'Harit', 'Sena', '’', '/', '‘', 'Green', 'Army', '’', 'body', 'dedicated', 'volunteer', 'participate', 'plantation', ',', 'protection', ',', 'activity', 'forest', ',', 'wildlife', ',', 'related', 'sector', 'around', 'year', '.', 'Individuals', 'organisation', 'interested', 'volunteering', 'register', 'Green', 'Army', 'website', 'www.greenarmy.mahaforest.gov.in', 'An', 'integrated', 'drive', 'set', 'place', 'ensure', 'seamless', 'successful', 'participation', 'stakeholder', 'society', ',', 'especially', 'public', '.']\n"
     ]
    }
   ],
   "source": [
    "lemmatizer = nltk.stem.WordNetLemmatizer()\n",
    "lemmatized_tokens = [lemmatizer.lemmatize(token) for token in word_tokens]\n",
    "print(lemmatized_tokens)"
   ]
  },
  {
   "cell_type": "markdown",
   "id": "fe5f19e2-c982-466c-b994-1e5ad2781f9f",
   "metadata": {},
   "source": [
    "### Stemming"
   ]
  },
  {
   "cell_type": "code",
   "execution_count": 10,
   "id": "46718c1c-9b05-4043-a71a-8b8e6f33c00b",
   "metadata": {},
   "outputs": [
    {
     "name": "stdout",
     "output_type": "stream",
     "text": [
      "['between', '2016', '2019', ',', 'state', 'forest', 'depart', 'bjp', 'govern', 'launch', '‘', 'green', 'maharashtra', '’', 'drive', 'aim', 'plant', '50', 'crore', 'tree', 'across', 'state', 'four-year', 'period', '.', 'in', 'octob', '2019', ',', 'govern', 'claim', 'surpass', 'target', 'plant', '33', 'crore', 'tree', 'july-septemb', '2019', '.', 'the', 'indian', 'express', 'found', 'non-forest', 'agenc', '—', 'gram', 'panchayat', '—', 'task', 'plant', 'tree', 'upload', 'mandatori', 'audio-visu', 'proof', 'tree', 'plantat', 'drive', 'special', 'creat', 'portal', '.', 'in', 'pune', 'revenu', 'divis', ',', 'claim', 'gram', 'panchayat', 'plant', '1.7', 'crore', 'sapl', ';', 'howev', ',', 'evid', 'upload', '87', 'per', 'cent', '(', '1.49', 'crore', ')', 'sapl', '.', 'also', ',', '59', 'govern', 'agenc', 'involv', 'drive', 'mani', '38', 'submit', 'surviv', 'report', 'sapl', '.', 'thi', 'year', ',', 'target', 'set', 'forest', 'depart', 'compar', 'modest', '.', 'for', 'exampl', ',', 'pune', 'circl', '—', 'compris', 'three', 'divis', 'pune', 'solapur', 'district', '—', 'plan', 'plant', '17', 'lakh', 'sapl', 'forest', 'land', '.', 'howev', ',', 'may', 'meet', 'target', 'due', 'unavail', 'fund', '.', 'last', 'year', 'pune', 'circl', 'plant', '70', 'lakh', 'sapl', 'forest', 'land', '.', 'in', 'pune', 'divis', '—', 'compris', 'six', 'taluka', 'name', 'maval', ',', 'mulshi', ',', 'daund', ',', 'indapur', ',', 'baramati', 'havv', '—', 'prepar', 'done', 'plantat', '4', 'lakh', 'tree', 'special', 'emphasi', 'teakwood', '.', 'the', 'nation', 'forest', 'polici', 'aim', 'emphas', 'maintain', '33', '%', 'countri', '’', 'geograph', 'area', 'forest', 'green', 'cover', '.', 'in', 'view', 'part', '50', 'crore', 'plantat', 'programm', 'within', 'maharashtra', ',', 'maharashtra', 'forest', 'depart', 'aim', 'plant', '4', 'crore', 'sapl', 'state', '1st', 'juli', '7th', ',', '2017', 'celebr', '‘', 'vanmohotsav', '’', '.', 'the', 'plantat', 'programm', ',', 'announc', '2016', 'aim', 'plant', '2', 'crore', 'tree', '1st', 'juli', '2016', 'resound', 'success', 'final', 'total', 'report', 'figur', '2.82', 'crore', 'sapl', 'plant', 'singl', 'day', '.', 'to', 'maintain', 'consist', 'platform', 'without', 'affect', 'momentum', ',', 'forest', 'depart', 'set', 'target', 'plantat', '4', 'crore', ',', '13', 'crore', '33', 'crore', 'sapl', 'mission', '50', 'crore', 'plantat', 'shall', 'accomplish', 'three', 'consecut', 'year', 'viz', '.', '2017', ',', '2018', '2019', '.', 'the', '4', 'crore', 'sapl', 'year', '2017', 'plant', 'vanmohotsav', ',', 'juli', '1st', 'juli', '7th', 'state-wid', 'drive', 'involv', '33', 'govern', 'depart', 'along', 'student', 'school', 'colleg', ',', 'nss', ',', 'ncc', ',', 'csr', ',', 'ngo', ',', 'railway', ',', 'nation', 'highway', ',', 'defenc', ',', 'nabard', 'stakehold', 'societi', '.', 'in', 'first', 'kind', ',', '24-hour', 'toll', 'free', 'helplin', 'number', '1926', 'call', '‘', 'hello', 'forest', '’', 'set', 'provid', 'inform', 'regard', 'plantat', ',', 'protect', 'mass', 'awar', '.', 'the', 'forest', 'depart', 'creat', 'mobil', 'applic', 'call', '‘', 'my', 'plant', '’', 'record', 'detail', 'plantat', 'number', ',', 'speci', 'locat', 'comput', 'system', 'forest', 'depart', '.', 'all', 'volunt', 'individu', ',', 'collect', 'organiz', 'level', 'download', 'use', 'applic', 'record', 'tree', 'plantat', 'work', 'applic', ',', 'oper', '1st', 'juli', '7th', 'juli', '.', 'in', 'conson', 'public', 'particip', ',', 'maharashtra', 'forest', 'depart', 'initi', '‘', 'maharashtra', 'harit', 'sena', '’', '/', '‘', 'green', 'armi', '’', 'bodi', 'dedic', 'volunt', 'particip', 'plantat', ',', 'protect', ',', 'activ', 'forest', ',', 'wildlif', ',', 'relat', 'sector', 'around', 'year', '.', 'individu', 'organis', 'interest', 'volunt', 'regist', 'green', 'armi', 'websit', 'www.greenarmy.mahaforest.gov.in', 'an', 'integr', 'drive', 'set', 'place', 'ensur', 'seamless', 'success', 'particip', 'stakehold', 'societi', ',', 'especi', 'public', '.']\n"
     ]
    }
   ],
   "source": [
    "stemmer = nltk.stem.PorterStemmer()\n",
    "stemmed_tokens = [stemmer.stem(token) for token in word_tokens]\n",
    "print(stemmed_tokens)"
   ]
  },
  {
   "cell_type": "markdown",
   "id": "538beb38-828d-4c0f-8f52-9b832ebf66af",
   "metadata": {},
   "source": [
    "## TF-IDF\n",
    "\n",
    "What is TF-IDF?\n",
    "\n",
    "Term Frequency - Inverse Document Frequency (TF-IDF) is a widely used statistical method in natural language processing and information retrieval. It measures how important a term is within a document relative to a collection of documents (i.e., relative to a corpus).\n",
    "\n",
    "Words within a text document are transformed into importance numbers by a text vectorization process. There are many different text vectorization scoring schemes, with TF-IDF being one of the most common.\n",
    "\n",
    "[Source](https://www.learndatasci.com/glossary/tf-idf-term-frequency-inverse-document-frequency/)\n",
    "\n",
    "#### Term Frequency\n",
    "TF of a term or word is the number of times the term appears in a document compared to the total number of words in the document.\n",
    "\n",
    "$TF = \\frac{term}{total}$\n",
    "\n",
    "Where:\n",
    "- $term$ is the number of times the specific term appears in the document.\n",
    "- $total$ is the total number of terms in the document.\n",
    "\n",
    "#### Inverse Document Frequency\n",
    "\n",
    "IDF is a measure used in information retrieval and text mining to quantify the importance of a term within a collection of documents.\n",
    "\n",
    "$IDF(t) = \\log(\\frac{N}{DF(t)})$\n",
    "\n",
    "Where:\n",
    "- $N$ is the number of documents.\n",
    "- $DF(t)$ is the number of documents containing the term t (i.e., the document frequency of t)."
   ]
  },
  {
   "cell_type": "code",
   "execution_count": 12,
   "id": "aebe19e0-8d34-4e67-a244-c78265bc74d9",
   "metadata": {},
   "outputs": [],
   "source": [
    "def calculate_term_freq(doc):\n",
    "    word_tokens = nltk.word_tokenize(doc)\n",
    "    tf_dict = dict()\n",
    "    for word in word_tokens:\n",
    "        tf_dict[word] = word_tokens.count(word)\n",
    "    tf = dict()\n",
    "    for word, count in tf_dict.items():\n",
    "        tf[word] = count/len(tf_dict)\n",
    "    return tf"
   ]
  },
  {
   "cell_type": "code",
   "execution_count": 14,
   "id": "8fdee3ab-db8c-4de9-9d33-0a4dabcd4868",
   "metadata": {},
   "outputs": [
    {
     "name": "stdout",
     "output_type": "stream",
     "text": [
      "Term Frequency of Doc 1:  {'Between': 0.0033783783783783786, '2016': 0.010135135135135136, 'and': 0.060810810810810814, '2019': 0.013513513513513514, ',': 0.12837837837837837, 'the': 0.13513513513513514, 'state': 0.006756756756756757, 'forest': 0.02027027027027027, 'department': 0.006756756756756757, 'under': 0.010135135135135136, 'BJP': 0.0033783783783783786, 'government': 0.013513513513513514, 'had': 0.02364864864864865, 'launched': 0.0033783783783783786, '‘': 0.02027027027027027, 'Green': 0.010135135135135136, 'Maharashtra': 0.016891891891891893, '’': 0.02364864864864865, 'drive': 0.013513513513513514, 'with': 0.02364864864864865, 'an': 0.0033783783783783786, 'aim': 0.006756756756756757, 'to': 0.04391891891891892, 'plant': 0.010135135135135136, '50': 0.010135135135135136, 'crore': 0.04391891891891892, 'trees': 0.016891891891891893, 'across': 0.0033783783783783786, 'in': 0.037162162162162164, 'four-year': 0.0033783783783783786, 'period': 0.0033783783783783786, '.': 0.07094594594594594, 'In': 0.02027027027027027, 'October': 0.0033783783783783786, 'claimed': 0.006756756756756757, 'it': 0.010135135135135136, 'surpassed': 0.0033783783783783786, 'target': 0.010135135135135136, 'by': 0.006756756756756757, 'planting': 0.010135135135135136, '33': 0.013513513513513514, 'July-September': 0.0033783783783783786, 'The': 0.016891891891891893, 'Indian': 0.0033783783783783786, 'Express': 0.0033783783783783786, 'found': 0.0033783783783783786, 'that': 0.0033783783783783786, 'non-forest': 0.0033783783783783786, 'agencies': 0.006756756756756757, '—': 0.02027027027027027, 'such': 0.006756756756756757, 'as': 0.016891891891891893, 'gram': 0.006756756756756757, 'panchayats': 0.006756756756756757, 'which': 0.02364864864864865, 'were': 0.010135135135135136, 'tasked': 0.0033783783783783786, 'not': 0.010135135135135136, 'uploaded': 0.006756756756756757, 'mandatory': 0.0033783783783783786, 'audio-visual': 0.0033783783783783786, 'proof': 0.0033783783783783786, 'of': 0.07432432432432433, 'tree': 0.006756756756756757, 'plantation': 0.033783783783783786, 'drives': 0.0033783783783783786, 'on': 0.02364864864864865, 'specially': 0.0033783783783783786, 'created': 0.006756756756756757, 'portal': 0.0033783783783783786, 'Pune': 0.016891891891891893, 'Revenue': 0.0033783783783783786, 'Division': 0.006756756756756757, 'was': 0.013513513513513514, 'planted': 0.013513513513513514, '1.7': 0.0033783783783783786, 'saplings': 0.030405405405405407, ';': 0.0033783783783783786, 'however': 0.0033783783783783786, 'no': 0.0033783783783783786, 'evidence': 0.0033783783783783786, 'for': 0.013513513513513514, '87': 0.0033783783783783786, 'per': 0.0033783783783783786, 'cent': 0.0033783783783783786, '(': 0.0033783783783783786, '1.49': 0.0033783783783783786, ')': 0.0033783783783783786, 'Also': 0.0033783783783783786, 'out': 0.0033783783783783786, '59': 0.0033783783783783786, 'involved': 0.0033783783783783786, 'many': 0.0033783783783783786, '38': 0.0033783783783783786, 'submitted': 0.0033783783783783786, 'survival': 0.0033783783783783786, 'reports': 0.0033783783783783786, 'about': 0.006756756756756757, 'This': 0.0033783783783783786, 'year': 0.013513513513513514, 'targets': 0.0033783783783783786, 'set': 0.013513513513513514, 'comparatively': 0.0033783783783783786, 'modest': 0.0033783783783783786, 'For': 0.0033783783783783786, 'example': 0.0033783783783783786, 'Circle': 0.006756756756756757, 'comprises': 0.006756756756756757, 'three': 0.006756756756756757, 'divisions': 0.0033783783783783786, 'Solapur': 0.0033783783783783786, 'district': 0.0033783783783783786, 'planned': 0.0033783783783783786, '17': 0.0033783783783783786, 'lakh': 0.010135135135135136, 'land': 0.006756756756756757, 'However': 0.0033783783783783786, 'may': 0.0033783783783783786, 'meet': 0.0033783783783783786, 'due': 0.0033783783783783786, 'unavailability': 0.0033783783783783786, 'funds': 0.0033783783783783786, 'Last': 0.0033783783783783786, '70': 0.0033783783783783786, 'six': 0.0033783783783783786, 'talukas': 0.0033783783783783786, 'namely': 0.0033783783783783786, 'Maval': 0.0033783783783783786, 'Mulshi': 0.0033783783783783786, 'Daund': 0.0033783783783783786, 'Indapur': 0.0033783783783783786, 'Baramati': 0.0033783783783783786, 'Havveli': 0.0033783783783783786, 'preparations': 0.0033783783783783786, 'done': 0.0033783783783783786, '4': 0.013513513513513514, 'special': 0.0033783783783783786, 'emphasis': 0.0033783783783783786, 'teakwood': 0.0033783783783783786, 'National': 0.006756756756756757, 'Forest': 0.02364864864864865, 'Policy': 0.0033783783783783786, 'aims': 0.006756756756756757, 'emphasizes': 0.0033783783783783786, 'at': 0.006756756756756757, 'maintaining': 0.0033783783783783786, '%': 0.0033783783783783786, 'country': 0.0033783783783783786, 's': 0.0033783783783783786, 'geographical': 0.0033783783783783786, 'area': 0.0033783783783783786, 'green': 0.0033783783783783786, 'cover': 0.0033783783783783786, 'view': 0.0033783783783783786, 'this': 0.010135135135135136, 'a': 0.02702702702702703, 'part': 0.0033783783783783786, 'programme': 0.006756756756756757, 'within': 0.0033783783783783786, 'Department': 0.016891891891891893, 'all': 0.006756756756756757, 'over': 0.0033783783783783786, 'State': 0.0033783783783783786, 'between': 0.0033783783783783786, '1st': 0.013513513513513514, 'July': 0.02027027027027027, '7th': 0.010135135135135136, '2017': 0.010135135135135136, 'celebrate': 0.0033783783783783786, 'Vanmohotsav': 0.006756756756756757, 'announced': 0.0033783783783783786, '2': 0.0033783783783783786, 'resounding': 0.0033783783783783786, 'success': 0.0033783783783783786, 'final': 0.0033783783783783786, 'total': 0.0033783783783783786, 'reported': 0.0033783783783783786, 'figure': 0.0033783783783783786, '2.82': 0.0033783783783783786, 'single': 0.0033783783783783786, 'day': 0.0033783783783783786, 'To': 0.0033783783783783786, 'maintain': 0.0033783783783783786, 'consistency': 0.0033783783783783786, 'platform': 0.0033783783783783786, 'without': 0.0033783783783783786, 'affecting': 0.0033783783783783786, 'its': 0.006756756756756757, 'momentum': 0.0033783783783783786, 'has': 0.016891891891891893, '13': 0.0033783783783783786, 'mission': 0.0033783783783783786, 'shall': 0.0033783783783783786, 'be': 0.010135135135135136, 'accomplished': 0.0033783783783783786, 'consecutive': 0.0033783783783783786, 'years': 0.0033783783783783786, 'viz': 0.0033783783783783786, '2018': 0.0033783783783783786, 'will': 0.006756756756756757, 'during': 0.0033783783783783786, 'state-wide': 0.0033783783783783786, 'involvement': 0.0033783783783783786, 'departments': 0.0033783783783783786, 'along': 0.0033783783783783786, 'Students': 0.0033783783783783786, 'Schools': 0.0033783783783783786, 'Colleges': 0.0033783783783783786, 'NSS': 0.0033783783783783786, 'NCC': 0.0033783783783783786, 'CSR': 0.0033783783783783786, 'NGOs': 0.0033783783783783786, 'Railways': 0.0033783783783783786, 'Highways': 0.0033783783783783786, 'Defence': 0.0033783783783783786, 'NABARD': 0.0033783783783783786, 'other': 0.0033783783783783786, 'stakeholders': 0.006756756756756757, 'Society': 0.0033783783783783786, 'first': 0.0033783783783783786, 'kind': 0.0033783783783783786, '24-hour': 0.0033783783783783786, 'toll': 0.0033783783783783786, 'free': 0.0033783783783783786, 'helpline': 0.0033783783783783786, 'number': 0.0033783783783783786, '1926': 0.0033783783783783786, 'called': 0.006756756756756757, 'Hello': 0.0033783783783783786, 'been': 0.006756756756756757, 'up': 0.0033783783783783786, 'provide': 0.0033783783783783786, 'information': 0.0033783783783783786, 'regarding': 0.0033783783783783786, 'protection': 0.006756756756756757, 'mass': 0.0033783783783783786, 'awareness': 0.0033783783783783786, 'mobile': 0.0033783783783783786, 'application': 0.010135135135135136, 'My': 0.0033783783783783786, 'Plants': 0.0033783783783783786, 'record': 0.006756756756756757, 'details': 0.0033783783783783786, 'numbers': 0.0033783783783783786, 'species': 0.0033783783783783786, 'location': 0.0033783783783783786, 'into': 0.0033783783783783786, 'computer': 0.0033783783783783786, 'system': 0.0033783783783783786, 'All': 0.0033783783783783786, 'volunteers': 0.006756756756756757, 'individual': 0.0033783783783783786, 'collective': 0.0033783783783783786, 'organizational': 0.0033783783783783786, 'level': 0.0033783783783783786, 'should': 0.0033783783783783786, 'download': 0.0033783783783783786, 'use': 0.0033783783783783786, 'their': 0.0033783783783783786, 'work': 0.0033783783783783786, 'through': 0.0033783783783783786, 'operational': 0.0033783783783783786, 'from': 0.006756756756756757, 'consonance': 0.0033783783783783786, 'public': 0.006756756756756757, 'participation': 0.006756756756756757, 'initiated': 0.0033783783783783786, 'Harit': 0.0033783783783783786, 'Sena': 0.0033783783783783786, '/': 0.0033783783783783786, 'Army': 0.006756756756756757, 'is': 0.0033783783783783786, 'body': 0.0033783783783783786, 'dedicated': 0.0033783783783783786, 'participate': 0.0033783783783783786, 'activities': 0.0033783783783783786, 'wildlife': 0.0033783783783783786, 'related': 0.0033783783783783786, 'sectors': 0.0033783783783783786, 'around': 0.0033783783783783786, 'Individuals': 0.0033783783783783786, 'organisations': 0.0033783783783783786, 'interested': 0.0033783783783783786, 'volunteering': 0.0033783783783783786, 'can': 0.0033783783783783786, 'register': 0.0033783783783783786, 'website': 0.0033783783783783786, 'www.greenarmy.mahaforest.gov.in': 0.0033783783783783786, 'An': 0.0033783783783783786, 'integrated': 0.0033783783783783786, 'place': 0.0033783783783783786, 'ensure': 0.0033783783783783786, 'seamless': 0.0033783783783783786, 'successful': 0.0033783783783783786, 'society': 0.0033783783783783786, 'especially': 0.0033783783783783786} \n",
      "\n",
      "\n",
      "Term Frequency of Doc 2:  {'Millions': 0.004807692307692308, 'of': 0.0673076923076923, 'people': 0.004807692307692308, 'in': 0.052884615384615384, 'India': 0.019230769230769232, 'took': 0.004807692307692308, 'part': 0.004807692307692308, 'an': 0.014423076923076924, 'annual': 0.009615384615384616, 'tree': 0.019230769230769232, 'planting': 0.009615384615384616, 'drive': 0.009615384615384616, 'Sunday': 0.004807692307692308, '.': 0.08653846153846154, 'More': 0.004807692307692308, 'than': 0.004807692307692308, '250': 0.004807692307692308, 'million': 0.009615384615384616, 'saplings': 0.038461538461538464, 'were': 0.014423076923076924, 'planted': 0.019230769230769232, 'a': 0.03365384615384615, 'single': 0.004807692307692308, 'day': 0.004807692307692308, 'across': 0.009615384615384616, 'the': 0.11538461538461539, 'country': 0.009615384615384616, \"'s\": 0.009615384615384616, 'most-populous': 0.004807692307692308, 'state': 0.02403846153846154, 'The': 0.03365384615384615, 'campaign': 0.004807692307692308, 'was': 0.009615384615384616, 'led': 0.004807692307692308, 'by': 0.014423076923076924, 'Uttar': 0.019230769230769232, 'Pradesh': 0.019230769230769232, 'government': 0.019230769230769232, 'officials': 0.009615384615384616, ',': 0.09615384615384616, 'lawmakers': 0.004807692307692308, 'and': 0.038461538461538464, 'activists': 0.004807692307692308, 'bid': 0.004807692307692308, 'to': 0.04807692307692308, 'reduce': 0.004807692307692308, 'carbon': 0.004807692307692308, 'emissions': 0.004807692307692308, 'combat': 0.004807692307692308, 'climate': 0.004807692307692308, 'change': 0.004807692307692308, 'Where': 0.004807692307692308, 'trees': 0.009615384615384616, '?': 0.014423076923076924, 'volunteers': 0.004807692307692308, 'forests': 0.004807692307692308, 'farms': 0.004807692307692308, 'schools': 0.004807692307692308, 'along': 0.004807692307692308, 'riverbanks': 0.004807692307692308, 'highways': 0.004807692307692308, '``': 0.02403846153846154, 'We': 0.004807692307692308, 'are': 0.004807692307692308, 'committed': 0.004807692307692308, 'increasing': 0.004807692307692308, 'forest': 0.02403846153846154, 'cover': 0.02403846153846154, 'over': 0.009615384615384616, '15': 0.004807692307692308, '%': 0.02403846153846154, 'total': 0.009615384615384616, 'land': 0.014423076923076924, 'area': 0.009615384615384616, 'next': 0.004807692307692308, 'five': 0.004807692307692308, 'years': 0.009615384615384616, \"''\": 0.02403846153846154, 'said': 0.02403846153846154, 'official': 0.014423076923076924, 'Manoj': 0.004807692307692308, 'Singh': 0.009615384615384616, 'According': 0.004807692307692308, 'another': 0.004807692307692308, 'has': 0.03365384615384615, 'increased': 0.009615384615384616, 'last': 0.009615384615384616, 'few': 0.004807692307692308, 'There': 0.009615384615384616, 'been': 0.019230769230769232, 'increase': 0.009615384615384616, '127': 0.004807692307692308, 'sqare': 0.009615384615384616, 'kilometers': 0.004807692307692308, '[': 0.004807692307692308, '79': 0.004807692307692308, 'miles': 0.004807692307692308, ']': 0.004807692307692308, 'as': 0.014423076923076924, 'compared': 0.009615384615384616, '2017': 0.004807692307692308, 'spokesperson': 0.004807692307692308, 'quoted': 0.004807692307692308, 'saying': 0.004807692307692308, 'Indian': 0.004807692307692308, 'Express': 0.004807692307692308, 'newspaper': 0.009615384615384616, 'also': 0.004807692307692308, 'plants': 0.004807692307692308, '3.05': 0.004807692307692308, 'national': 0.004807692307692308, 'average': 0.004807692307692308, '2.89': 0.004807692307692308, 'citing': 0.004807692307692308, '2019': 0.004807692307692308, 'Forest': 0.009615384615384616, 'Survey': 0.004807692307692308, 'report': 0.004807692307692308, 'How': 0.004807692307692308, 'many': 0.004807692307692308, 'survive': 0.009615384615384616, 'State': 0.004807692307692308, 'Minister': 0.004807692307692308, 'Dara': 0.004807692307692308, 'long-term': 0.004807692307692308, 'survival': 0.004807692307692308, 'remains': 0.004807692307692308, 'concern': 0.004807692307692308, 'adding': 0.004807692307692308, 'that': 0.019230769230769232, 'usually': 0.004807692307692308, 'only': 0.004807692307692308, '60': 0.004807692307692308, 'rest': 0.004807692307692308, 'succumb': 0.004807692307692308, 'disease': 0.004807692307692308, 'or': 0.014423076923076924, 'lack': 0.004807692307692308, 'water': 0.004807692307692308, 'However': 0.009615384615384616, 'he': 0.009615384615384616, 'about': 0.004807692307692308, '80': 0.004807692307692308, 'four': 0.004807692307692308, 'drives': 0.004807692307692308, 'have': 0.019230769230769232, 'survived': 0.009615384615384616, 'All': 0.004807692307692308, 'regions': 0.004807692307692308, 'where': 0.004807692307692308, 'plantation': 0.009615384615384616, 'is': 0.009615384615384616, 'being': 0.004807692307692308, 'carried': 0.004807692307692308, 'out': 0.004807692307692308, 'geo-tagged': 0.004807692307692308, 'so': 0.009615384615384616, 'we': 0.004807692307692308, 'can': 0.009615384615384616, 'ascertain': 0.004807692307692308, 'what': 0.004807692307692308, 'exactly': 0.004807692307692308, 'happened': 0.004807692307692308, 'Chauhan': 0.004807692307692308, 'told': 0.004807692307692308, 'Pioneer': 0.004807692307692308, 'These': 0.004807692307692308, 'carry': 0.004807692307692308, 'QR': 0.004807692307692308, 'codes': 0.004807692307692308, 'maintain': 0.004807692307692308, 'record': 0.004807692307692308, 'verify': 0.004807692307692308, 'whether': 0.004807692307692308, 'not': 0.004807692307692308, 'Besides': 0.004807692307692308, 'teams': 0.004807692307692308, 'formed': 0.004807692307692308, 'monitor': 0.004807692307692308, 'progress': 0.004807692307692308, 'What': 0.004807692307692308, 'extent': 0.004807692307692308, 'project': 0.004807692307692308, 'vowed': 0.004807692307692308, 'third': 0.004807692307692308, 'its': 0.004807692307692308, '95': 0.004807692307692308, 'hectares': 0.004807692307692308, 'under': 0.004807692307692308, '2030': 0.004807692307692308, 'allocated': 0.004807692307692308, '$': 0.004807692307692308, '6.2': 0.004807692307692308, 'billion': 0.009615384615384616, '(': 0.004807692307692308, '€5.2': 0.004807692307692308, ')': 0.004807692307692308, 'for': 0.004807692307692308, 'tree-planting': 0.004807692307692308, 'industrial': 0.004807692307692308, 'development': 0.004807692307692308, 'rapidly': 0.004807692307692308, 'growing': 0.004807692307692308, 'population': 0.004807692307692308, 'put': 0.004807692307692308, 'further': 0.004807692307692308, 'stress': 0.004807692307692308, 'on': 0.004807692307692308}\n"
     ]
    }
   ],
   "source": [
    "tf = calculate_term_freq(doc)\n",
    "tf2 = calculate_term_freq(doc2)\n",
    "\n",
    "print(\"Term Frequency of Doc 1: \", tf, \"\\n\\n\")\n",
    "print(\"Term Frequency of Doc 2: \", tf2)"
   ]
  },
  {
   "cell_type": "code",
   "execution_count": 19,
   "id": "dcc100b1-7d19-4948-856f-a1ce90d1ef29",
   "metadata": {},
   "outputs": [],
   "source": [
    "d1_tokens = nltk.word_tokenize(doc)\n",
    "d2_tokens = nltk.word_tokenize(doc2)\n",
    "\n",
    "def calculate_idf():\n",
    "    N = 2\n",
    "    all_tokens = d1_tokens + d2_tokens\n",
    "    idf = dict()\n",
    "    for token in all_tokens:\n",
    "        f = 0                   # Changed f from 1 back to 0\n",
    "        if token in d1_tokens:\n",
    "            f+=1\n",
    "        if token in d2_tokens:\n",
    "            f+=1\n",
    "        idf[token] = math.log(N/f)\n",
    "    return idf\n",
    "\n",
    "idf = calculate_idf()"
   ]
  },
  {
   "cell_type": "code",
   "execution_count": 20,
   "id": "bb960bf0-0c50-4b25-8511-dda3676dc873",
   "metadata": {},
   "outputs": [],
   "source": [
    "d1_repr = []\n",
    "for token in d1_tokens:\n",
    "    d1_repr.append(tf[token] * idf[token])\n",
    "d2_repr = []\n",
    "for token in d2_tokens:\n",
    "    d2_repr.append(tf2[token] * idf[token])"
   ]
  },
  {
   "cell_type": "code",
   "execution_count": 21,
   "id": "68f08dc7-aaf8-4806-b15c-0f855123fc83",
   "metadata": {},
   "outputs": [
    {
     "name": "stdout",
     "output_type": "stream",
     "text": [
      "[0.0023417134478376533, 0.007025140343512959, 0.0, 0.0, 0.0, 0.0, 0.0, 0.0, 0.004683426895675307, 0.0, 0.0, 0.0023417134478376533, 0.0, 0.01639199413486357, 0.0023417134478376533, 0.014050280687025919, 0.007025140343512959, 0.011708567239188266, 0.01639199413486357, 0.0, 0.01639199413486357, 0.0, 0.004683426895675307, 0.0, 0.007025140343512959, 0.007025140343512959, 0.030442274821889492, 0.0, 0.0, 0.0, 0.0, 0.0, 0.0, 0.0023417134478376533, 0.0023417134478376533, 0.0, 0.014050280687025919, 0.0023417134478376533, 0.0, 0.0, 0.0, 0.0, 0.01639199413486357, 0.004683426895675307, 0.007025140343512959, 0.01639199413486357, 0.0023417134478376533, 0.0, 0.007025140343512959, 0.0, 0.0, 0.009366853791350613, 0.030442274821889492, 0.0, 0.0, 0.0023417134478376533, 0.0, 0.0, 0.0, 0.0, 0.0, 0.01639199413486357, 0.0023417134478376533, 0.0, 0.0023417134478376533, 0.004683426895675307, 0.014050280687025919, 0.004683426895675307, 0.0, 0.004683426895675307, 0.004683426895675307, 0.014050280687025919, 0.01639199413486357, 0.0, 0.0023417134478376533, 0.01639199413486357, 0.0, 0.0, 0.01639199413486357, 0.0, 0.004683426895675307, 0.0, 0.0023417134478376533, 0.0023417134478376533, 0.0023417134478376533, 0.0, 0.0, 0.0, 0.0, 0.0, 0.0, 0.0, 0.0023417134478376533, 0.004683426895675307, 0.0023417134478376533, 0.0, 0.014050280687025919, 0.011708567239188266, 0.0023417134478376533, 0.004683426895675307, 0.0, 0.007025140343512959, 0.0, 0.004683426895675307, 0.0, 0.004683426895675307, 0.004683426895675307, 0.0, 0.0023417134478376533, 0.030442274821889492, 0.0, 0.0023417134478376533, 0.0023417134478376533, 0.0, 0.0023417134478376533, 0.0023417134478376533, 0.0, 0.004683426895675307, 0.0, 0.0023417134478376533, 0.0023417134478376533, 0.0023417134478376533, 0.0, 0.0023417134478376533, 0.030442274821889492, 0.0, 0.0, 0.0, 0.0023417134478376533, 0.0, 0.0, 0.0, 0.0, 0.0023417134478376533, 0.0, 0.004683426895675307, 0.0023417134478376533, 0.0, 0.0, 0.0, 0.0, 0.0, 0.0, 0.0023417134478376533, 0.01639199413486357, 0.0, 0.0023417134478376533, 0.0, 0.0023417134478376533, 0.0, 0.0, 0.0, 0.0, 0.0023417134478376533, 0.009366853791350613, 0.0, 0.0, 0.0023417134478376533, 0.009366853791350613, 0.0, 0.0, 0.0, 0.004683426895675307, 0.0, 0.0023417134478376533, 0.0023417134478376533, 0.0, 0.0023417134478376533, 0.0023417134478376533, 0.0, 0.011708567239188266, 0.004683426895675307, 0.014050280687025919, 0.01639199413486357, 0.004683426895675307, 0.004683426895675307, 0.0023417134478376533, 0.0, 0.011708567239188266, 0.0, 0.0023417134478376533, 0.0023417134478376533, 0.014050280687025919, 0.01639199413486357, 0.0023417134478376533, 0.0, 0.007025140343512959, 0.0023417134478376533, 0.007025140343512959, 0.0, 0.0, 0.0, 0.0, 0.0, 0.0, 0.0, 0.007025140343512959, 0.0023417134478376533, 0.0, 0.0023417134478376533, 0.0, 0.007025140343512959, 0.0023417134478376533, 0.0, 0.0023417134478376533, 0.0, 0.0023417134478376533, 0.0, 0.0023417134478376533, 0.009366853791350613, 0.011708567239188266, 0.004683426895675307, 0.0, 0.0023417134478376533, 0.007025140343512959, 0.0, 0.0, 0.0, 0.0, 0.0, 0.014050280687025919, 0.011708567239188266, 0.004683426895675307, 0.014050280687025919, 0.01639199413486357, 0.004683426895675307, 0.0023417134478376533, 0.0023417134478376533, 0.0023417134478376533, 0.0023417134478376533, 0.0, 0.0023417134478376533, 0.0, 0.0023417134478376533, 0.0, 0.0023417134478376533, 0.0, 0.0023417134478376533, 0.0, 0.0023417134478376533, 0.014050280687025919, 0.0023417134478376533, 0.0, 0.0023417134478376533, 0.0, 0.0, 0.0, 0.0, 0.009366853791350613, 0.007025140343512959, 0.0, 0.01639199413486357, 0.0023417134478376533, 0.0023417134478376533, 0.0, 0.0023417134478376533, 0.0, 0.0, 0.004683426895675307, 0.0, 0.0023417134478376533, 0.004683426895675307, 0.0, 0.0023417134478376533, 0.004683426895675307, 0.0023417134478376533, 0.009366853791350613, 0.0, 0.0, 0.0, 0.0, 0.01639199413486357, 0.0023417134478376533, 0.0023417134478376533, 0.0, 0.0, 0.0, 0.0, 0.0023417134478376533, 0.0, 0.0, 0.014050280687025919, 0.0023417134478376533, 0.0, 0.007025140343512959, 0.0, 0.0, 0.0, 0.0, 0.0, 0.0, 0.007025140343512959, 0.030442274821889492, 0.0, 0.004683426895675307, 0.0023417134478376533, 0.011708567239188266, 0.0, 0.0, 0.011708567239188266, 0.0, 0.011708567239188266, 0.004683426895675307, 0.0, 0.007025140343512959, 0.009366853791350613, 0.030442274821889492, 0.0, 0.004683426895675307, 0.0, 0.0, 0.0, 0.0023417134478376533, 0.009366853791350613, 0.0, 0.014050280687025919, 0.007025140343512959, 0.0, 0.0, 0.0, 0.0023417134478376533, 0.014050280687025919, 0.004683426895675307, 0.01639199413486357, 0.0, 0.0, 0.0, 0.004683426895675307, 0.0, 0.01639199413486357, 0.0, 0.0023417134478376533, 0.0, 0.007025140343512959, 0.01639199413486357, 0.0, 0.004683426895675307, 0.0, 0.0, 0.0023417134478376533, 0.030442274821889492, 0.0, 0.0, 0.009366853791350613, 0.014050280687025919, 0.007025140343512959, 0.0, 0.0, 0.0023417134478376533, 0.0023417134478376533, 0.01639199413486357, 0.0, 0.0023417134478376533, 0.0, 0.0023417134478376533, 0.0023417134478376533, 0.0, 0.0023417134478376533, 0.030442274821889492, 0.0, 0.0, 0.0, 0.0, 0.0, 0.0, 0.0, 0.0023417134478376533, 0.0, 0.0023417134478376533, 0.0, 0.007025140343512959, 0.0023417134478376533, 0.0023417134478376533, 0.0023417134478376533, 0.0, 0.0023417134478376533, 0.0, 0.0, 0.0, 0.011708567239188266, 0.0, 0.009366853791350613, 0.0, 0.007025140343512959, 0.0, 0.0, 0.0, 0.009366853791350613, 0.030442274821889492, 0.0, 0.0023417134478376533, 0.030442274821889492, 0.0, 0.009366853791350613, 0.030442274821889492, 0.0, 0.0, 0.0, 0.0023417134478376533, 0.0, 0.007025140343512959, 0.030442274821889492, 0.0, 0.01639199413486357, 0.0023417134478376533, 0.007025140343512959, 0.0023417134478376533, 0.0, 0.0, 0.004683426895675307, 0.0023417134478376533, 0.0, 0.0023417134478376533, 0.0, 0.0, 0.0, 0.0023417134478376533, 0.0, 0.0, 0.0, 0.0, 0.009366853791350613, 0.030442274821889492, 0.0, 0.0, 0.0, 0.009366853791350613, 0.0, 0.004683426895675307, 0.007025140343512959, 0.0, 0.0023417134478376533, 0.0, 0.004683426895675307, 0.0, 0.014050280687025919, 0.009366853791350613, 0.0, 0.014050280687025919, 0.007025140343512959, 0.0, 0.0, 0.0023417134478376533, 0.0, 0.01639199413486357, 0.0, 0.0023417134478376533, 0.0, 0.009366853791350613, 0.0, 0.0023417134478376533, 0.0, 0.01639199413486357, 0.0023417134478376533, 0.0, 0.0023417134478376533, 0.0, 0.0023417134478376533, 0.0, 0.0023417134478376533, 0.0, 0.0023417134478376533, 0.0, 0.0023417134478376533, 0.0, 0.0023417134478376533, 0.0, 0.0023417134478376533, 0.0, 0.004683426895675307, 0.0023417134478376533, 0.0, 0.0023417134478376533, 0.0, 0.0023417134478376533, 0.0, 0.0023417134478376533, 0.004683426895675307, 0.0, 0.0023417134478376533, 0.0, 0.014050280687025919, 0.0, 0.0023417134478376533, 0.0, 0.0, 0.0023417134478376533, 0.0, 0.0, 0.0023417134478376533, 0.0023417134478376533, 0.0023417134478376533, 0.0023417134478376533, 0.0023417134478376533, 0.0023417134478376533, 0.004683426895675307, 0.014050280687025919, 0.0023417134478376533, 0.0, 0.01639199413486357, 0.0, 0.0, 0.009366853791350613, 0.0023417134478376533, 0.0, 0.0023417134478376533, 0.0023417134478376533, 0.0023417134478376533, 0.0, 0.0, 0.004683426895675307, 0.0, 0.0, 0.0023417134478376533, 0.0023417134478376533, 0.0, 0.0, 0.0, 0.011708567239188266, 0.0, 0.004683426895675307, 0.0, 0.0023417134478376533, 0.007025140343512959, 0.004683426895675307, 0.014050280687025919, 0.0023417134478376533, 0.0023417134478376533, 0.01639199413486357, 0.0, 0.0, 0.0023417134478376533, 0.0, 0.0, 0.0, 0.004683426895675307, 0.0, 0.0023417134478376533, 0.0, 0.0023417134478376533, 0.0, 0.0023417134478376533, 0.0023417134478376533, 0.0, 0.0023417134478376533, 0.0023417134478376533, 0.0, 0.0, 0.0, 0.011708567239188266, 0.0, 0.0, 0.0, 0.004683426895675307, 0.0023417134478376533, 0.0, 0.0023417134478376533, 0.0, 0.0023417134478376533, 0.0023417134478376533, 0.0023417134478376533, 0.0023417134478376533, 0.0, 0.0023417134478376533, 0.007025140343512959, 0.007025140343512959, 0.0, 0.0, 0.0023417134478376533, 0.0, 0.0, 0.0023417134478376533, 0.0023417134478376533, 0.0, 0.007025140343512959, 0.0, 0.01639199413486357, 0.004683426895675307, 0.007025140343512959, 0.0023417134478376533, 0.004683426895675307, 0.009366853791350613, 0.014050280687025919, 0.0, 0.007025140343512959, 0.014050280687025919, 0.0, 0.014050280687025919, 0.0023417134478376533, 0.0, 0.0, 0.004683426895675307, 0.004683426895675307, 0.0, 0.0, 0.011708567239188266, 0.0, 0.011708567239188266, 0.0, 0.0023417134478376533, 0.0, 0.014050280687025919, 0.011708567239188266, 0.0023417134478376533, 0.0023417134478376533, 0.01639199413486357, 0.0023417134478376533, 0.014050280687025919, 0.007025140343512959, 0.004683426895675307, 0.01639199413486357, 0.01639199413486357, 0.0, 0.0, 0.0023417134478376533, 0.0, 0.0023417134478376533, 0.0, 0.0, 0.0023417134478376533, 0.0, 0.0, 0.0, 0.0, 0.004683426895675307, 0.0, 0.0, 0.0023417134478376533, 0.0, 0.0, 0.0, 0.0023417134478376533, 0.0, 0.0, 0.0023417134478376533, 0.0023417134478376533, 0.0023417134478376533, 0.0, 0.009366853791350613, 0.0, 0.0023417134478376533, 0.0, 0.0023417134478376533, 0.0023417134478376533, 0.0, 0.0023417134478376533, 0.0, 0.0023417134478376533, 0.0, 0.0, 0.007025140343512959, 0.004683426895675307, 0.0023417134478376533, 0.0023417134478376533, 0.0023417134478376533, 0.0023417134478376533, 0.0, 0.0, 0.0, 0.009366853791350613, 0.0, 0.0023417134478376533, 0.0, 0.0023417134478376533, 0.0023417134478376533, 0.0, 0.0023417134478376533, 0.004683426895675307, 0.004683426895675307, 0.004683426895675307, 0.004683426895675307, 0.0, 0.0023417134478376533, 0.0, 0.0023417134478376533, 0.0, 0.004683426895675307, 0.0]\n"
     ]
    }
   ],
   "source": [
    "print(d1_repr)"
   ]
  },
  {
   "cell_type": "code",
   "execution_count": 22,
   "id": "f2cdb272-8a4b-4e8d-94cf-801d778ed91f",
   "metadata": {},
   "outputs": [
    {
     "name": "stdout",
     "output_type": "stream",
     "text": [
      "[0.0033324383680766604, 0.0, 0.0033324383680766604, 0.0, 0.013329753472306641, 0.0033324383680766604, 0.0, 0.0, 0.0, 0.006664876736153321, 0.0, 0.0, 0.0, 0.0033324383680766604, 0.0, 0.0033324383680766604, 0.0033324383680766604, 0.0033324383680766604, 0.006664876736153321, 0.0, 0.0, 0.0, 0.0, 0.0, 0.0, 0.0, 0.0, 0.0, 0.0, 0.006664876736153321, 0.0033324383680766604, 0.0, 0.0, 0.0, 0.0033324383680766604, 0.0, 0.0033324383680766604, 0.0, 0.013329753472306641, 0.013329753472306641, 0.0, 0.0, 0.006664876736153321, 0.0, 0.0033324383680766604, 0.0, 0.0, 0.0033324383680766604, 0.0, 0.0, 0.0, 0.0033324383680766604, 0.0, 0.0033324383680766604, 0.0033324383680766604, 0.0033324383680766604, 0.0, 0.0033324383680766604, 0.0033324383680766604, 0.0033324383680766604, 0.0, 0.0033324383680766604, 0.0, 0.0, 0.0, 0.0, 0.00999731510422998, 0.0, 0.0, 0.0, 0.0, 0.0, 0.0, 0.0, 0.0033324383680766604, 0.0, 0.0033324383680766604, 0.0, 0.0033324383680766604, 0.0, 0.0, 0.0, 0.0033324383680766604, 0.0, 0.0033324383680766604, 0.0, 0.0166621918403833, 0.0033324383680766604, 0.0033324383680766604, 0.0033324383680766604, 0.0, 0.0033324383680766604, 0.0, 0.0, 0.0, 0.0, 0.013329753472306641, 0.013329753472306641, 0.0, 0.0, 0.0033324383680766604, 0.0, 0.0, 0.0, 0.0, 0.0, 0.0, 0.0, 0.0, 0.0033324383680766604, 0.0033324383680766604, 0.0, 0.0, 0.0166621918403833, 0.0166621918403833, 0.0, 0.0, 0.00999731510422998, 0.0033324383680766604, 0.006664876736153321, 0.0, 0.0033324383680766604, 0.0, 0.0033324383680766604, 0.0, 0.00999731510422998, 0.0, 0.0, 0.0, 0.0, 0.0, 0.0, 0.0, 0.0, 0.006664876736153321, 0.0, 0.0, 0.006664876736153321, 0.0033324383680766604, 0.0, 0.0, 0.0166621918403833, 0.006664876736153321, 0.0, 0.0, 0.0, 0.006664876736153321, 0.0, 0.0033324383680766604, 0.006664876736153321, 0.0033324383680766604, 0.0033324383680766604, 0.0033324383680766604, 0.006664876736153321, 0.0033324383680766604, 0.0033324383680766604, 0.0, 0.0, 0.0, 0.0, 0.0, 0.013329753472306641, 0.013329753472306641, 0.0, 0.006664876736153321, 0.0, 0.0, 0.0, 0.0166621918403833, 0.0, 0.0, 0.0, 0.0033324383680766604, 0.0, 0.0033324383680766604, 0.0, 0.0033324383680766604, 0.0, 0.0, 0.0, 0.0, 0.006664876736153321, 0.0, 0.0166621918403833, 0.006664876736153321, 0.0, 0.0033324383680766604, 0.0, 0.0, 0.006664876736153321, 0.0, 0.0, 0.0, 0.0033324383680766604, 0.0, 0.0, 0.0, 0.0, 0.0, 0.006664876736153321, 0.0, 0.0033324383680766604, 0.0, 0.0, 0.0, 0.006664876736153321, 0.0, 0.0, 0.0033324383680766604, 0.0033324383680766604, 0.0, 0.0033324383680766604, 0.0, 0.0, 0.0166621918403833, 0.0, 0.00999731510422998, 0.0166621918403833, 0.0, 0.0033324383680766604, 0.0, 0.0, 0.0, 0.0033324383680766604, 0.0, 0.013329753472306641, 0.0033324383680766604, 0.0, 0.0033324383680766604, 0.0, 0.0, 0.006664876736153321, 0.00999731510422998, 0.013329753472306641, 0.013329753472306641, 0.0, 0.0, 0.0033324383680766604, 0.0033324383680766604, 0.006664876736153321, 0.0166621918403833, 0.0, 0.0033324383680766604, 0.0, 0.0, 0.0, 0.0, 0.0033324383680766604, 0.0, 0.0033324383680766604, 0.0, 0.0033324383680766604, 0.0, 0.0033324383680766604, 0.0033324383680766604, 0.0033324383680766604, 0.0, 0.0, 0.0, 0.0, 0.006664876736153321, 0.0, 0.0, 0.0033324383680766604, 0.0033324383680766604, 0.0, 0.0033324383680766604, 0.00999731510422998, 0.0033324383680766604, 0.0, 0.0033324383680766604, 0.0, 0.0, 0.0, 0.006664876736153321, 0.0166621918403833, 0.0, 0.0, 0.0033324383680766604, 0.0, 0.0, 0.0, 0.0, 0.0, 0.0, 0.0, 0.006664876736153321, 0.0033324383680766604, 0.006664876736153321, 0.0, 0.013329753472306641, 0.006664876736153321, 0.0, 0.0166621918403833, 0.0, 0.0, 0.0033324383680766604, 0.0033324383680766604, 0.0, 0.0, 0.0033324383680766604, 0.0033324383680766604, 0.0, 0.013329753472306641, 0.0, 0.0033324383680766604, 0.006664876736153321, 0.0, 0.0033324383680766604, 0.0, 0.0033324383680766604, 0.0033324383680766604, 0.0033324383680766604, 0.0033324383680766604, 0.0, 0.0166621918403833, 0.0033324383680766604, 0.0033324383680766604, 0.0, 0.0033324383680766604, 0.006664876736153321, 0.0, 0.0166621918403833, 0.0033324383680766604, 0.0, 0.0033324383680766604, 0.0033324383680766604, 0.0033324383680766604, 0.006664876736153321, 0.0, 0.006664876736153321, 0.0, 0.0, 0.0, 0.0, 0.0, 0.0033324383680766604, 0.0033324383680766604, 0.0, 0.0, 0.006664876736153321, 0.00999731510422998, 0.0, 0.0, 0.0033324383680766604, 0.0, 0.0033324383680766604, 0.013329753472306641, 0.0, 0.0033324383680766604, 0.0, 0.0033324383680766604, 0.0033324383680766604, 0.0, 0.0, 0.0, 0.0, 0.0, 0.0166621918403833, 0.006664876736153321, 0.0166621918403833, 0.0, 0.0033324383680766604, 0.0, 0.0, 0.0033324383680766604, 0.0, 0.013329753472306641, 0.006664876736153321, 0.0, 0.0, 0.0033324383680766604, 0.00999731510422998, 0.013329753472306641, 0.0, 0.0033324383680766604, 0.0, 0.013329753472306641, 0.0, 0.0033324383680766604, 0.0, 0.0, 0.0, 0.0, 0.0, 0.0, 0.00999731510422998, 0.0033324383680766604, 0.006664876736153321, 0.0033324383680766604, 0.0, 0.0, 0.0, 0.0, 0.0, 0.0, 0.0, 0.0033324383680766604, 0.0, 0.0, 0.0, 0.0, 0.0033324383680766604, 0.0033324383680766604, 0.0033324383680766604, 0.006664876736153321, 0.0, 0.0033324383680766604, 0.006664876736153321, 0.0, 0.0, 0.0, 0.0033324383680766604, 0.0, 0.0, 0.0, 0.0, 0.0, 0.0, 0.0033324383680766604, 0.0033324383680766604, 0.0, 0.0, 0.0033324383680766604, 0.0033324383680766604, 0.0033324383680766604, 0.0, 0.0033324383680766604, 0.0033324383680766604, 0.0033324383680766604, 0.0, 0.0, 0.0, 0.0]\n"
     ]
    }
   ],
   "source": [
    "print(d2_repr)"
   ]
  }
 ],
 "metadata": {
  "kernelspec": {
   "display_name": "Python 3 (ipykernel)",
   "language": "python",
   "name": "python3"
  },
  "language_info": {
   "codemirror_mode": {
    "name": "ipython",
    "version": 3
   },
   "file_extension": ".py",
   "mimetype": "text/x-python",
   "name": "python",
   "nbconvert_exporter": "python",
   "pygments_lexer": "ipython3",
   "version": "3.12.2"
  }
 },
 "nbformat": 4,
 "nbformat_minor": 5
}
