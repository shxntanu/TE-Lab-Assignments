{
 "cells": [
  {
   "cell_type": "markdown",
   "id": "d8425b30-b517-4cf2-9876-70bc7433b136",
   "metadata": {},
   "source": [
    "# Assignment 02\n",
    "\n",
    "## Data Wrangling\n",
    "\n",
    "Create an “Academic performance” dataset of students and perform the following operations using Python. transformation should be one of the following reasons: to change the scale for better\n",
    "\n",
    "1. Scan all variables for missing values and inconsistencies. If there are missing values and/or inconsistencies, use any of the suitable techniques to deal with them.\n",
    "2. Scan all numeric variables for outliers. If there are outliers, use any of the suitable techniques to deal with them. Apply data transformations on at least one of the variables.\n",
    "3. Apply data transformations on at least one of the variables. The purpose of this: understanding of the variable, to convert a non-linear relation into a linear one, or to decrease the skewness and convert the distribution into a normal distribution. Reason and document your approach properly.\n",
    "\n",
    "Dataset details: https://www.kaggle.com/datasets/spscientist/students-performance-in-exams\n"
   ]
  },
  {
   "cell_type": "code",
   "execution_count": 1,
   "id": "81e0d900-5952-4396-80ea-56ea709b20de",
   "metadata": {},
   "outputs": [],
   "source": [
    "import numpy as np\n",
    "import pandas as pd\n",
    "import seaborn as sns\n",
    "import matplotlib.pyplot as plt"
   ]
  },
  {
   "cell_type": "code",
   "execution_count": 2,
   "id": "cbb58852-a366-4c00-aedc-db5383f206ef",
   "metadata": {},
   "outputs": [
    {
     "data": {
      "text/html": [
       "<div>\n",
       "<style scoped>\n",
       "    .dataframe tbody tr th:only-of-type {\n",
       "        vertical-align: middle;\n",
       "    }\n",
       "\n",
       "    .dataframe tbody tr th {\n",
       "        vertical-align: top;\n",
       "    }\n",
       "\n",
       "    .dataframe thead th {\n",
       "        text-align: right;\n",
       "    }\n",
       "</style>\n",
       "<table border=\"1\" class=\"dataframe\">\n",
       "  <thead>\n",
       "    <tr style=\"text-align: right;\">\n",
       "      <th></th>\n",
       "      <th>gender</th>\n",
       "      <th>race/ethnicity</th>\n",
       "      <th>parental level of education</th>\n",
       "      <th>lunch</th>\n",
       "      <th>test preparation course</th>\n",
       "      <th>math score</th>\n",
       "      <th>reading score</th>\n",
       "      <th>writing score</th>\n",
       "    </tr>\n",
       "  </thead>\n",
       "  <tbody>\n",
       "    <tr>\n",
       "      <th>0</th>\n",
       "      <td>female</td>\n",
       "      <td>group B</td>\n",
       "      <td>bachelor's degree</td>\n",
       "      <td>standard</td>\n",
       "      <td>none</td>\n",
       "      <td>72</td>\n",
       "      <td>72</td>\n",
       "      <td>74</td>\n",
       "    </tr>\n",
       "    <tr>\n",
       "      <th>1</th>\n",
       "      <td>female</td>\n",
       "      <td>group C</td>\n",
       "      <td>some college</td>\n",
       "      <td>standard</td>\n",
       "      <td>completed</td>\n",
       "      <td>69</td>\n",
       "      <td>90</td>\n",
       "      <td>88</td>\n",
       "    </tr>\n",
       "    <tr>\n",
       "      <th>2</th>\n",
       "      <td>female</td>\n",
       "      <td>group B</td>\n",
       "      <td>master's degree</td>\n",
       "      <td>standard</td>\n",
       "      <td>none</td>\n",
       "      <td>90</td>\n",
       "      <td>95</td>\n",
       "      <td>93</td>\n",
       "    </tr>\n",
       "    <tr>\n",
       "      <th>3</th>\n",
       "      <td>male</td>\n",
       "      <td>group A</td>\n",
       "      <td>associate's degree</td>\n",
       "      <td>free/reduced</td>\n",
       "      <td>none</td>\n",
       "      <td>47</td>\n",
       "      <td>57</td>\n",
       "      <td>44</td>\n",
       "    </tr>\n",
       "    <tr>\n",
       "      <th>4</th>\n",
       "      <td>male</td>\n",
       "      <td>group C</td>\n",
       "      <td>some college</td>\n",
       "      <td>standard</td>\n",
       "      <td>none</td>\n",
       "      <td>76</td>\n",
       "      <td>78</td>\n",
       "      <td>75</td>\n",
       "    </tr>\n",
       "  </tbody>\n",
       "</table>\n",
       "</div>"
      ],
      "text/plain": [
       "   gender race/ethnicity parental level of education         lunch  \\\n",
       "0  female        group B           bachelor's degree      standard   \n",
       "1  female        group C                some college      standard   \n",
       "2  female        group B             master's degree      standard   \n",
       "3    male        group A          associate's degree  free/reduced   \n",
       "4    male        group C                some college      standard   \n",
       "\n",
       "  test preparation course  math score  reading score  writing score  \n",
       "0                    none          72             72             74  \n",
       "1               completed          69             90             88  \n",
       "2                    none          90             95             93  \n",
       "3                    none          47             57             44  \n",
       "4                    none          76             78             75  "
      ]
     },
     "execution_count": 2,
     "metadata": {},
     "output_type": "execute_result"
    }
   ],
   "source": [
    "df = pd.read_csv(\"dataset.csv\")\n",
    "df.head()"
   ]
  },
  {
   "cell_type": "markdown",
   "id": "4b09d0ef-0d8e-4e25-b063-c69b9cc4d24c",
   "metadata": {},
   "source": [
    "## Renaming Columns"
   ]
  },
  {
   "cell_type": "code",
   "execution_count": 3,
   "id": "54af7d9a-7796-4f4f-8d3d-fbe803bacaf0",
   "metadata": {},
   "outputs": [
    {
     "data": {
      "text/html": [
       "<div>\n",
       "<style scoped>\n",
       "    .dataframe tbody tr th:only-of-type {\n",
       "        vertical-align: middle;\n",
       "    }\n",
       "\n",
       "    .dataframe tbody tr th {\n",
       "        vertical-align: top;\n",
       "    }\n",
       "\n",
       "    .dataframe thead th {\n",
       "        text-align: right;\n",
       "    }\n",
       "</style>\n",
       "<table border=\"1\" class=\"dataframe\">\n",
       "  <thead>\n",
       "    <tr style=\"text-align: right;\">\n",
       "      <th></th>\n",
       "      <th>gender</th>\n",
       "      <th>race</th>\n",
       "      <th>parent_edu</th>\n",
       "      <th>lunch</th>\n",
       "      <th>test_course</th>\n",
       "      <th>math_score</th>\n",
       "      <th>reading_score</th>\n",
       "      <th>writing_score</th>\n",
       "    </tr>\n",
       "  </thead>\n",
       "  <tbody>\n",
       "    <tr>\n",
       "      <th>0</th>\n",
       "      <td>female</td>\n",
       "      <td>group B</td>\n",
       "      <td>bachelor's degree</td>\n",
       "      <td>standard</td>\n",
       "      <td>none</td>\n",
       "      <td>72</td>\n",
       "      <td>72</td>\n",
       "      <td>74</td>\n",
       "    </tr>\n",
       "    <tr>\n",
       "      <th>1</th>\n",
       "      <td>female</td>\n",
       "      <td>group C</td>\n",
       "      <td>some college</td>\n",
       "      <td>standard</td>\n",
       "      <td>completed</td>\n",
       "      <td>69</td>\n",
       "      <td>90</td>\n",
       "      <td>88</td>\n",
       "    </tr>\n",
       "    <tr>\n",
       "      <th>2</th>\n",
       "      <td>female</td>\n",
       "      <td>group B</td>\n",
       "      <td>master's degree</td>\n",
       "      <td>standard</td>\n",
       "      <td>none</td>\n",
       "      <td>90</td>\n",
       "      <td>95</td>\n",
       "      <td>93</td>\n",
       "    </tr>\n",
       "    <tr>\n",
       "      <th>3</th>\n",
       "      <td>male</td>\n",
       "      <td>group A</td>\n",
       "      <td>associate's degree</td>\n",
       "      <td>free/reduced</td>\n",
       "      <td>none</td>\n",
       "      <td>47</td>\n",
       "      <td>57</td>\n",
       "      <td>44</td>\n",
       "    </tr>\n",
       "    <tr>\n",
       "      <th>4</th>\n",
       "      <td>male</td>\n",
       "      <td>group C</td>\n",
       "      <td>some college</td>\n",
       "      <td>standard</td>\n",
       "      <td>none</td>\n",
       "      <td>76</td>\n",
       "      <td>78</td>\n",
       "      <td>75</td>\n",
       "    </tr>\n",
       "    <tr>\n",
       "      <th>...</th>\n",
       "      <td>...</td>\n",
       "      <td>...</td>\n",
       "      <td>...</td>\n",
       "      <td>...</td>\n",
       "      <td>...</td>\n",
       "      <td>...</td>\n",
       "      <td>...</td>\n",
       "      <td>...</td>\n",
       "    </tr>\n",
       "    <tr>\n",
       "      <th>995</th>\n",
       "      <td>female</td>\n",
       "      <td>group E</td>\n",
       "      <td>master's degree</td>\n",
       "      <td>standard</td>\n",
       "      <td>completed</td>\n",
       "      <td>88</td>\n",
       "      <td>99</td>\n",
       "      <td>95</td>\n",
       "    </tr>\n",
       "    <tr>\n",
       "      <th>996</th>\n",
       "      <td>male</td>\n",
       "      <td>group C</td>\n",
       "      <td>high school</td>\n",
       "      <td>free/reduced</td>\n",
       "      <td>none</td>\n",
       "      <td>62</td>\n",
       "      <td>55</td>\n",
       "      <td>55</td>\n",
       "    </tr>\n",
       "    <tr>\n",
       "      <th>997</th>\n",
       "      <td>female</td>\n",
       "      <td>group C</td>\n",
       "      <td>high school</td>\n",
       "      <td>free/reduced</td>\n",
       "      <td>completed</td>\n",
       "      <td>59</td>\n",
       "      <td>71</td>\n",
       "      <td>65</td>\n",
       "    </tr>\n",
       "    <tr>\n",
       "      <th>998</th>\n",
       "      <td>female</td>\n",
       "      <td>group D</td>\n",
       "      <td>some college</td>\n",
       "      <td>standard</td>\n",
       "      <td>completed</td>\n",
       "      <td>68</td>\n",
       "      <td>78</td>\n",
       "      <td>77</td>\n",
       "    </tr>\n",
       "    <tr>\n",
       "      <th>999</th>\n",
       "      <td>female</td>\n",
       "      <td>group D</td>\n",
       "      <td>some college</td>\n",
       "      <td>free/reduced</td>\n",
       "      <td>none</td>\n",
       "      <td>77</td>\n",
       "      <td>86</td>\n",
       "      <td>86</td>\n",
       "    </tr>\n",
       "  </tbody>\n",
       "</table>\n",
       "<p>1000 rows × 8 columns</p>\n",
       "</div>"
      ],
      "text/plain": [
       "     gender     race          parent_edu         lunch test_course  \\\n",
       "0    female  group B   bachelor's degree      standard        none   \n",
       "1    female  group C        some college      standard   completed   \n",
       "2    female  group B     master's degree      standard        none   \n",
       "3      male  group A  associate's degree  free/reduced        none   \n",
       "4      male  group C        some college      standard        none   \n",
       "..      ...      ...                 ...           ...         ...   \n",
       "995  female  group E     master's degree      standard   completed   \n",
       "996    male  group C         high school  free/reduced        none   \n",
       "997  female  group C         high school  free/reduced   completed   \n",
       "998  female  group D        some college      standard   completed   \n",
       "999  female  group D        some college  free/reduced        none   \n",
       "\n",
       "     math_score  reading_score  writing_score  \n",
       "0            72             72             74  \n",
       "1            69             90             88  \n",
       "2            90             95             93  \n",
       "3            47             57             44  \n",
       "4            76             78             75  \n",
       "..          ...            ...            ...  \n",
       "995          88             99             95  \n",
       "996          62             55             55  \n",
       "997          59             71             65  \n",
       "998          68             78             77  \n",
       "999          77             86             86  \n",
       "\n",
       "[1000 rows x 8 columns]"
      ]
     },
     "execution_count": 3,
     "metadata": {},
     "output_type": "execute_result"
    }
   ],
   "source": [
    "df = df.rename(columns = {\n",
    "    \"race/ethnicity\": \"race\",\n",
    "    \"parental level of education\": \"parent_edu\",\n",
    "    \"test preparation course\": \"test_course\",\n",
    "    \"math score\": \"math_score\",\n",
    "    \"reading score\": \"reading_score\",\n",
    "    \"writing score\": \"writing_score\"\n",
    "})\n",
    "df"
   ]
  },
  {
   "cell_type": "markdown",
   "id": "5ad8f066-3dfd-4ab9-bacb-c437e5834954",
   "metadata": {},
   "source": [
    "## 2.1 Checking for null values"
   ]
  },
  {
   "cell_type": "code",
   "execution_count": 16,
   "id": "2dcc56fc-1b04-44db-a0e7-aa400f4e1dd1",
   "metadata": {},
   "outputs": [
    {
     "data": {
      "text/plain": [
       "gender             0\n",
       "race               0\n",
       "parent_edu         0\n",
       "lunch              0\n",
       "test_course        0\n",
       "math_score         0\n",
       "reading_score      0\n",
       "writing_score      0\n",
       "gender_enc         0\n",
       "race_enc           0\n",
       "parent_edu_enc     0\n",
       "lunch_enc          0\n",
       "test_course_enc    0\n",
       "dtype: int64"
      ]
     },
     "execution_count": 16,
     "metadata": {},
     "output_type": "execute_result"
    }
   ],
   "source": [
    "df.isnull().sum()"
   ]
  },
  {
   "cell_type": "markdown",
   "id": "e8087d27-e271-41cc-a0e1-1132af5f2402",
   "metadata": {},
   "source": [
    "## 2.2 Checking for outliers"
   ]
  },
  {
   "cell_type": "code",
   "execution_count": 4,
   "id": "7a10edca-17df-4985-9a70-047dffab733e",
   "metadata": {},
   "outputs": [
    {
     "data": {
      "text/plain": [
       "<Axes: ylabel='writing_score'>"
      ]
     },
     "execution_count": 4,
     "metadata": {},
     "output_type": "execute_result"
    },
    {
     "data": {
      "image/png": "[encoded data removed]",
      "text/plain": [
       "<Figure size 1500x500 with 3 Axes>"
      ]
     },
     "metadata": {},
     "output_type": "display_data"
    }
   ],
   "source": [
    "fig,axes = plt.subplots(1,3, figsize=(15,5))\n",
    "\n",
    "sns.boxplot(data=df[\"math_score\"], ax=axes[0])\n",
    "sns.boxplot(data=df[\"reading_score\"], ax=axes[1])\n",
    "sns.boxplot(data=df[\"writing_score\"], ax=axes[2])"
   ]
  },
  {
   "cell_type": "code",
   "execution_count": 5,
   "id": "55e4dfba-107a-47b7-adb4-87e531dddcd5",
   "metadata": {},
   "outputs": [
    {
     "data": {
      "text/plain": [
       "<Axes: xlabel='writing_score', ylabel='Count'>"
      ]
     },
     "execution_count": 5,
     "metadata": {},
     "output_type": "execute_result"
    },
    {
     "data": {
      "image/png": "[encoded data removed]",
      "text/plain": [
       "<Figure size 1500x500 with 3 Axes>"
      ]
     },
     "metadata": {},
     "output_type": "display_data"
    }
   ],
   "source": [
    "fig,axes = plt.subplots(1,3, figsize=(15,5))\n",
    "\n",
    "sns.histplot(data=df[\"math_score\"], ax=axes[0])\n",
    "sns.histplot(data=df[\"reading_score\"], ax=axes[1])\n",
    "sns.histplot(data=df[\"writing_score\"], ax=axes[2])"
   ]
  },
  {
   "cell_type": "code",
   "execution_count": 6,
   "id": "76724d2c-2602-4297-abbd-aa86606bb28e",
   "metadata": {},
   "outputs": [],
   "source": [
    "def remove_outliers(feature):\n",
    "    global df\n",
    "    q3,q1 = np.percentile(df[feature], [75,25])\n",
    "    iqr = q3-q1\n",
    "    df = df[ (df[feature] <= q3 + 1.5*iqr) & (df[feature] >= q1 - 1.5*iqr) ]"
   ]
  },
  {
   "cell_type": "code",
   "execution_count": 7,
   "id": "ca169557-638b-41fc-90e9-30130fdf4c38",
   "metadata": {},
   "outputs": [],
   "source": [
    "remove_outliers(\"math_score\")\n",
    "remove_outliers(\"reading_score\")\n",
    "remove_outliers(\"writing_score\")"
   ]
  },
  {
   "cell_type": "code",
   "execution_count": 8,
   "id": "a38e3d0e-0f14-4dcc-9782-75cffecbd041",
   "metadata": {},
   "outputs": [
    {
     "data": {
      "text/plain": [
       "<Axes: ylabel='writing_score'>"
      ]
     },
     "execution_count": 8,
     "metadata": {},
     "output_type": "execute_result"
    },
    {
     "data": {
      "image/png": "[encoded data removed]",
      "text/plain": [
       "<Figure size 1500x500 with 3 Axes>"
      ]
     },
     "metadata": {},
     "output_type": "display_data"
    }
   ],
   "source": [
    "fig,axes = plt.subplots(1,3, figsize=(15,5))\n",
    "\n",
    "sns.boxplot(data=df[\"math_score\"], ax=axes[0])\n",
    "sns.boxplot(data=df[\"reading_score\"], ax=axes[1])\n",
    "sns.boxplot(data=df[\"writing_score\"], ax=axes[2])"
   ]
  },
  {
   "cell_type": "code",
   "execution_count": 9,
   "id": "3a0ce7ff-90eb-4a9e-8c4d-979e8d7afc4c",
   "metadata": {},
   "outputs": [
    {
     "data": {
      "text/plain": [
       "<Axes: xlabel='writing_score', ylabel='Count'>"
      ]
     },
     "execution_count": 9,
     "metadata": {},
     "output_type": "execute_result"
    },
    {
     "data": {
      "image/png": "[encoded data removed]",
      "text/plain": [
       "<Figure size 1500x500 with 3 Axes>"
      ]
     },
     "metadata": {},
     "output_type": "display_data"
    }
   ],
   "source": [
    "fig,axes = plt.subplots(1,3, figsize=(15,5))\n",
    "\n",
    "sns.histplot(data=df[\"math_score\"], ax=axes[0])\n",
    "sns.histplot(data=df[\"reading_score\"], ax=axes[1])\n",
    "sns.histplot(data=df[\"writing_score\"], ax=axes[2])"
   ]
  },
  {
   "cell_type": "markdown",
   "id": "cedd0e7f-ba8f-43c5-bea6-c68d95ec2f5e",
   "metadata": {},
   "source": [
    "## Label Encoding\n",
    "\n",
    "### Checking value counts"
   ]
  },
  {
   "cell_type": "code",
   "execution_count": 10,
   "id": "de650e8c-50a0-4c43-b139-52298fa6471b",
   "metadata": {},
   "outputs": [
    {
     "data": {
      "text/plain": [
       "race\n",
       "group C    315\n",
       "group D    261\n",
       "group B    183\n",
       "group E    139\n",
       "group A     88\n",
       "Name: count, dtype: int64"
      ]
     },
     "execution_count": 10,
     "metadata": {},
     "output_type": "execute_result"
    }
   ],
   "source": [
    "df.race.value_counts()"
   ]
  },
  {
   "cell_type": "code",
   "execution_count": 11,
   "id": "1ded7483-6c3e-40f1-a6d1-e636d71fd3bc",
   "metadata": {},
   "outputs": [
    {
     "data": {
      "text/plain": [
       "parent_edu\n",
       "some college          222\n",
       "associate's degree    221\n",
       "high school           191\n",
       "some high school      175\n",
       "bachelor's degree     118\n",
       "master's degree        59\n",
       "Name: count, dtype: int64"
      ]
     },
     "execution_count": 11,
     "metadata": {},
     "output_type": "execute_result"
    }
   ],
   "source": [
    "df.parent_edu.value_counts()"
   ]
  },
  {
   "cell_type": "code",
   "execution_count": 12,
   "id": "afea86db-8188-4ea6-b9c8-43dd483f952c",
   "metadata": {},
   "outputs": [
    {
     "data": {
      "text/plain": [
       "lunch\n",
       "standard        642\n",
       "free/reduced    344\n",
       "Name: count, dtype: int64"
      ]
     },
     "execution_count": 12,
     "metadata": {},
     "output_type": "execute_result"
    }
   ],
   "source": [
    "df.lunch.value_counts()"
   ]
  },
  {
   "cell_type": "code",
   "execution_count": 13,
   "id": "f3475af8-b9b2-441c-aff1-4b6c4ca06f3a",
   "metadata": {},
   "outputs": [
    {
     "data": {
      "text/plain": [
       "test_course\n",
       "none         629\n",
       "completed    357\n",
       "Name: count, dtype: int64"
      ]
     },
     "execution_count": 13,
     "metadata": {},
     "output_type": "execute_result"
    }
   ],
   "source": [
    "df.test_course.value_counts()"
   ]
  },
  {
   "cell_type": "markdown",
   "id": "fe9ffdb1-77cc-4a7e-b30d-e898f45052e0",
   "metadata": {},
   "source": [
    "### Label Encoding using Scikit-Learn's LabelEncoder"
   ]
  },
  {
   "cell_type": "code",
   "execution_count": 15,
   "id": "a14ff16f-4df8-4fb6-822c-94de956c94b4",
   "metadata": {},
   "outputs": [
    {
     "data": {
      "text/html": [
       "<div>\n",
       "<style scoped>\n",
       "    .dataframe tbody tr th:only-of-type {\n",
       "        vertical-align: middle;\n",
       "    }\n",
       "\n",
       "    .dataframe tbody tr th {\n",
       "        vertical-align: top;\n",
       "    }\n",
       "\n",
       "    .dataframe thead th {\n",
       "        text-align: right;\n",
       "    }\n",
       "</style>\n",
       "<table border=\"1\" class=\"dataframe\">\n",
       "  <thead>\n",
       "    <tr style=\"text-align: right;\">\n",
       "      <th></th>\n",
       "      <th>gender</th>\n",
       "      <th>race</th>\n",
       "      <th>parent_edu</th>\n",
       "      <th>lunch</th>\n",
       "      <th>test_course</th>\n",
       "      <th>math_score</th>\n",
       "      <th>reading_score</th>\n",
       "      <th>writing_score</th>\n",
       "      <th>gender_enc</th>\n",
       "      <th>race_enc</th>\n",
       "      <th>parent_edu_enc</th>\n",
       "      <th>lunch_enc</th>\n",
       "      <th>test_course_enc</th>\n",
       "    </tr>\n",
       "  </thead>\n",
       "  <tbody>\n",
       "    <tr>\n",
       "      <th>0</th>\n",
       "      <td>female</td>\n",
       "      <td>group B</td>\n",
       "      <td>bachelor's degree</td>\n",
       "      <td>standard</td>\n",
       "      <td>none</td>\n",
       "      <td>72</td>\n",
       "      <td>72</td>\n",
       "      <td>74</td>\n",
       "      <td>0</td>\n",
       "      <td>1</td>\n",
       "      <td>1</td>\n",
       "      <td>1</td>\n",
       "      <td>1</td>\n",
       "    </tr>\n",
       "    <tr>\n",
       "      <th>1</th>\n",
       "      <td>female</td>\n",
       "      <td>group C</td>\n",
       "      <td>some college</td>\n",
       "      <td>standard</td>\n",
       "      <td>completed</td>\n",
       "      <td>69</td>\n",
       "      <td>90</td>\n",
       "      <td>88</td>\n",
       "      <td>0</td>\n",
       "      <td>2</td>\n",
       "      <td>4</td>\n",
       "      <td>4</td>\n",
       "      <td>0</td>\n",
       "    </tr>\n",
       "    <tr>\n",
       "      <th>2</th>\n",
       "      <td>female</td>\n",
       "      <td>group B</td>\n",
       "      <td>master's degree</td>\n",
       "      <td>standard</td>\n",
       "      <td>none</td>\n",
       "      <td>90</td>\n",
       "      <td>95</td>\n",
       "      <td>93</td>\n",
       "      <td>0</td>\n",
       "      <td>1</td>\n",
       "      <td>3</td>\n",
       "      <td>3</td>\n",
       "      <td>1</td>\n",
       "    </tr>\n",
       "    <tr>\n",
       "      <th>3</th>\n",
       "      <td>male</td>\n",
       "      <td>group A</td>\n",
       "      <td>associate's degree</td>\n",
       "      <td>free/reduced</td>\n",
       "      <td>none</td>\n",
       "      <td>47</td>\n",
       "      <td>57</td>\n",
       "      <td>44</td>\n",
       "      <td>1</td>\n",
       "      <td>0</td>\n",
       "      <td>0</td>\n",
       "      <td>0</td>\n",
       "      <td>1</td>\n",
       "    </tr>\n",
       "    <tr>\n",
       "      <th>4</th>\n",
       "      <td>male</td>\n",
       "      <td>group C</td>\n",
       "      <td>some college</td>\n",
       "      <td>standard</td>\n",
       "      <td>none</td>\n",
       "      <td>76</td>\n",
       "      <td>78</td>\n",
       "      <td>75</td>\n",
       "      <td>1</td>\n",
       "      <td>2</td>\n",
       "      <td>4</td>\n",
       "      <td>4</td>\n",
       "      <td>1</td>\n",
       "    </tr>\n",
       "  </tbody>\n",
       "</table>\n",
       "</div>"
      ],
      "text/plain": [
       "   gender     race          parent_edu         lunch test_course  math_score  \\\n",
       "0  female  group B   bachelor's degree      standard        none          72   \n",
       "1  female  group C        some college      standard   completed          69   \n",
       "2  female  group B     master's degree      standard        none          90   \n",
       "3    male  group A  associate's degree  free/reduced        none          47   \n",
       "4    male  group C        some college      standard        none          76   \n",
       "\n",
       "   reading_score  writing_score  gender_enc  race_enc  parent_edu_enc  \\\n",
       "0             72             74           0         1               1   \n",
       "1             90             88           0         2               4   \n",
       "2             95             93           0         1               3   \n",
       "3             57             44           1         0               0   \n",
       "4             78             75           1         2               4   \n",
       "\n",
       "   lunch_enc  test_course_enc  \n",
       "0          1                1  \n",
       "1          4                0  \n",
       "2          3                1  \n",
       "3          0                1  \n",
       "4          4                1  "
      ]
     },
     "execution_count": 15,
     "metadata": {},
     "output_type": "execute_result"
    }
   ],
   "source": [
    "from sklearn.preprocessing import LabelEncoder\n",
    "\n",
    "encoder = LabelEncoder()\n",
    "df[\"gender_enc\"] = encoder.fit_transform(df[\"gender\"])\n",
    "df[\"race_enc\"] = encoder.fit_transform(df[\"race\"])\n",
    "df[\"parent_edu_enc\"] = encoder.fit_transform(df[\"parent_edu\"])\n",
    "df[\"lunch_enc\"] = encoder.fit_transform(df[\"parent_edu\"])\n",
    "df[\"test_course_enc\"] = encoder.fit_transform(df[\"test_course\"])\n",
    "\n",
    "df.head()"
   ]
  },
  {
   "cell_type": "markdown",
   "id": "97655477-8cc8-4aaa-a0f5-7dc3863c1d29",
   "metadata": {},
   "source": [
    "## 2.3 Min-Max Normalization"
   ]
  },
  {
   "cell_type": "code",
   "execution_count": 16,
   "id": "1e1c7a57-2cc9-4adb-85fb-4cff26bf8af4",
   "metadata": {},
   "outputs": [],
   "source": [
    "def min_max_normalize(feature):\n",
    "    global df\n",
    "    df[feature] = (df[feature] - df[feature].min())/(df[feature].max() - df[feature].min())"
   ]
  },
  {
   "cell_type": "code",
   "execution_count": 18,
   "id": "efd127d5-381b-4d2a-b9a1-8729f701b072",
   "metadata": {},
   "outputs": [],
   "source": [
    "min_max_normalize(\"math_score\")\n",
    "min_max_normalize(\"reading_score\")\n",
    "min_max_normalize(\"writing_score\")"
   ]
  },
  {
   "cell_type": "code",
   "execution_count": 19,
   "id": "d2f78d06-3da8-4dd7-851f-ec208315f2f7",
   "metadata": {},
   "outputs": [
    {
     "data": {
      "text/plain": [
       "<Axes: xlabel='writing_score', ylabel='Count'>"
      ]
     },
     "execution_count": 19,
     "metadata": {},
     "output_type": "execute_result"
    },
    {
     "data": {
      "image/png": "[encoded data removed]",
      "text/plain": [
       "<Figure size 1500x500 with 3 Axes>"
      ]
     },
     "metadata": {},
     "output_type": "display_data"
    }
   ],
   "source": [
    "fig,axes = plt.subplots(1,3, figsize=(15,5))\n",
    "\n",
    "sns.histplot(data=df[\"math_score\"], ax=axes[0])\n",
    "sns.histplot(data=df[\"reading_score\"], ax=axes[1])\n",
    "sns.histplot(data=df[\"writing_score\"], ax=axes[2])"
   ]
  }
 ],
 "metadata": {
  "kernelspec": {
   "display_name": "Python 3 (ipykernel)",
   "language": "python",
   "name": "python3"
  },
  "language_info": {
   "codemirror_mode": {
    "name": "ipython",
    "version": 3
   },
   "file_extension": ".py",
   "mimetype": "text/x-python",
   "name": "python",
   "nbconvert_exporter": "python",
   "pygments_lexer": "ipython3",
   "version": "3.12.3"
  }
 },
 "nbformat": 4,
 "nbformat_minor": 5
}
